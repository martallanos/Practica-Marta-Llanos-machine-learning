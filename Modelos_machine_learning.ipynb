{
 "cells": [
  {
   "cell_type": "markdown",
   "id": "19198da2",
   "metadata": {},
   "source": [
    "# Modelos Machine Learning"
   ]
  },
  {
   "cell_type": "markdown",
   "id": "95f475bf",
   "metadata": {},
   "source": [
    "Una vez hecha la limpieza de datos vamos a pasar a crear los modelos para predecir los precios de airbnb según las caracteristicas de los alojamientos."
   ]
  },
  {
   "cell_type": "code",
   "execution_count": 103,
   "id": "d9acd9e6",
   "metadata": {},
   "outputs": [],
   "source": [
    "#Carga de Librerías\n",
    "\n",
    "#Warnings\n",
    "import warnings\n",
    "warnings.simplefilter(action='ignore', category=FutureWarning)\n",
    "\n",
    "#Librerias básicas\n",
    "import pandas as pd\n",
    "import numpy as np\n",
    "import seaborn as sns\n",
    "from matplotlib import pyplot as plt\n",
    "\n",
    "#Transformacion de los datos \n",
    "from sklearn.preprocessing import OrdinalEncoder\n",
    "from sklearn.preprocessing import OneHotEncoder\n",
    "import category_encoders as ce\n",
    "from sklearn.preprocessing import StandardScaler\n",
    "from sklearn.model_selection import train_test_split\n",
    "\n",
    "#Metricas\n",
    "from sklearn.metrics import mean_squared_error\n",
    "from sklearn.metrics import r2_score\n",
    "\n",
    "#Grid search\n",
    "from sklearn.model_selection import cross_val_score\n",
    "from sklearn.model_selection import GridSearchCV\n",
    "\n",
    "\n",
    "#Modelos básicos\n",
    "from sklearn.linear_model import LinearRegression\n",
    "from sklearn.linear_model import Ridge, Lasso\n",
    "from sklearn.linear_model import RidgeCV\n",
    "from sklearn.linear_model import LassoCV\n",
    "\n",
    "#Arboles y ensamblaje \n",
    "from sklearn.tree import DecisionTreeRegressor\n",
    "from sklearn.tree import plot_tree\n",
    "from sklearn.ensemble import RandomForestRegressor\n",
    "from sklearn.ensemble import GradientBoostingRegressor\n",
    "\n",
    "\n",
    "pd.set_option('display.max_rows', 500) # para mostrar todas las filas\n",
    "pd.set_option('display.max_columns', None) # para mostrar todas las columnas"
   ]
  },
  {
   "cell_type": "code",
   "execution_count": 104,
   "id": "3fa2f103",
   "metadata": {},
   "outputs": [],
   "source": [
    "#Carga de datos limpios\n",
    "dfl = pd.read_csv('df_limpio.csv', delimiter=',').iloc[:, 1:]"
   ]
  },
  {
   "cell_type": "code",
   "execution_count": 105,
   "id": "24319203",
   "metadata": {},
   "outputs": [
    {
     "data": {
      "text/html": [
       "<div>\n",
       "<style scoped>\n",
       "    .dataframe tbody tr th:only-of-type {\n",
       "        vertical-align: middle;\n",
       "    }\n",
       "\n",
       "    .dataframe tbody tr th {\n",
       "        vertical-align: top;\n",
       "    }\n",
       "\n",
       "    .dataframe thead th {\n",
       "        text-align: right;\n",
       "    }\n",
       "</style>\n",
       "<table border=\"1\" class=\"dataframe\">\n",
       "  <thead>\n",
       "    <tr style=\"text-align: right;\">\n",
       "      <th></th>\n",
       "      <th>host response time</th>\n",
       "      <th>host response rate</th>\n",
       "      <th>host verifications</th>\n",
       "      <th>latitude</th>\n",
       "      <th>longitude</th>\n",
       "      <th>property type</th>\n",
       "      <th>room type</th>\n",
       "      <th>bathrooms</th>\n",
       "      <th>bedrooms</th>\n",
       "      <th>beds</th>\n",
       "      <th>bed type</th>\n",
       "      <th>amenities</th>\n",
       "      <th>security deposit</th>\n",
       "      <th>cleaning fee</th>\n",
       "      <th>guests included</th>\n",
       "      <th>extra people</th>\n",
       "      <th>minimum nights</th>\n",
       "      <th>maximum nights</th>\n",
       "      <th>availability 365</th>\n",
       "      <th>number of reviews</th>\n",
       "      <th>cancellation policy</th>\n",
       "      <th>features</th>\n",
       "      <th>price</th>\n",
       "      <th>average review</th>\n",
       "      <th>final neighbourhood</th>\n",
       "      <th>years being host</th>\n",
       "    </tr>\n",
       "  </thead>\n",
       "  <tbody>\n",
       "    <tr>\n",
       "      <th>0</th>\n",
       "      <td>within an hour</td>\n",
       "      <td>84.0</td>\n",
       "      <td>3</td>\n",
       "      <td>40.406953</td>\n",
       "      <td>-3.670894</td>\n",
       "      <td>Apartment</td>\n",
       "      <td>Private room</td>\n",
       "      <td>2.0</td>\n",
       "      <td>1.0</td>\n",
       "      <td>1.0</td>\n",
       "      <td>Real Bed</td>\n",
       "      <td>7</td>\n",
       "      <td>183.0</td>\n",
       "      <td>30.0</td>\n",
       "      <td>1</td>\n",
       "      <td>5</td>\n",
       "      <td>1</td>\n",
       "      <td>1125</td>\n",
       "      <td>240</td>\n",
       "      <td>171</td>\n",
       "      <td>flexible</td>\n",
       "      <td>3</td>\n",
       "      <td>28.0</td>\n",
       "      <td>20.142857</td>\n",
       "      <td>Retiro</td>\n",
       "      <td>2</td>\n",
       "    </tr>\n",
       "    <tr>\n",
       "      <th>1</th>\n",
       "      <td>within a few hours</td>\n",
       "      <td>100.0</td>\n",
       "      <td>3</td>\n",
       "      <td>40.425904</td>\n",
       "      <td>-3.681647</td>\n",
       "      <td>Apartment</td>\n",
       "      <td>Entire home/apt</td>\n",
       "      <td>1.0</td>\n",
       "      <td>0.0</td>\n",
       "      <td>1.0</td>\n",
       "      <td>Real Bed</td>\n",
       "      <td>13</td>\n",
       "      <td>100.0</td>\n",
       "      <td>30.0</td>\n",
       "      <td>1</td>\n",
       "      <td>0</td>\n",
       "      <td>2</td>\n",
       "      <td>1125</td>\n",
       "      <td>15</td>\n",
       "      <td>52</td>\n",
       "      <td>moderate</td>\n",
       "      <td>3</td>\n",
       "      <td>58.0</td>\n",
       "      <td>22.285714</td>\n",
       "      <td>Salamanca</td>\n",
       "      <td>2</td>\n",
       "    </tr>\n",
       "    <tr>\n",
       "      <th>2</th>\n",
       "      <td>within an hour</td>\n",
       "      <td>100.0</td>\n",
       "      <td>5</td>\n",
       "      <td>40.428352</td>\n",
       "      <td>-3.687155</td>\n",
       "      <td>Apartment</td>\n",
       "      <td>Entire home/apt</td>\n",
       "      <td>1.0</td>\n",
       "      <td>0.0</td>\n",
       "      <td>2.0</td>\n",
       "      <td>Real Bed</td>\n",
       "      <td>17</td>\n",
       "      <td>150.0</td>\n",
       "      <td>30.0</td>\n",
       "      <td>2</td>\n",
       "      <td>15</td>\n",
       "      <td>2</td>\n",
       "      <td>1125</td>\n",
       "      <td>292</td>\n",
       "      <td>36</td>\n",
       "      <td>flexible</td>\n",
       "      <td>4</td>\n",
       "      <td>70.0</td>\n",
       "      <td>20.571429</td>\n",
       "      <td>Salamanca</td>\n",
       "      <td>1</td>\n",
       "    </tr>\n",
       "  </tbody>\n",
       "</table>\n",
       "</div>"
      ],
      "text/plain": [
       "   host response time  host response rate  host verifications   latitude  \\\n",
       "0      within an hour                84.0                   3  40.406953   \n",
       "1  within a few hours               100.0                   3  40.425904   \n",
       "2      within an hour               100.0                   5  40.428352   \n",
       "\n",
       "   longitude property type        room type  bathrooms  bedrooms  beds  \\\n",
       "0  -3.670894     Apartment     Private room        2.0       1.0   1.0   \n",
       "1  -3.681647     Apartment  Entire home/apt        1.0       0.0   1.0   \n",
       "2  -3.687155     Apartment  Entire home/apt        1.0       0.0   2.0   \n",
       "\n",
       "   bed type  amenities  security deposit  cleaning fee  guests included  \\\n",
       "0  Real Bed          7             183.0          30.0                1   \n",
       "1  Real Bed         13             100.0          30.0                1   \n",
       "2  Real Bed         17             150.0          30.0                2   \n",
       "\n",
       "   extra people  minimum nights  maximum nights  availability 365  \\\n",
       "0             5               1            1125               240   \n",
       "1             0               2            1125                15   \n",
       "2            15               2            1125               292   \n",
       "\n",
       "   number of reviews cancellation policy  features  price  average review  \\\n",
       "0                171            flexible         3   28.0       20.142857   \n",
       "1                 52            moderate         3   58.0       22.285714   \n",
       "2                 36            flexible         4   70.0       20.571429   \n",
       "\n",
       "  final neighbourhood  years being host  \n",
       "0              Retiro                 2  \n",
       "1           Salamanca                 2  \n",
       "2           Salamanca                 1  "
      ]
     },
     "execution_count": 105,
     "metadata": {},
     "output_type": "execute_result"
    }
   ],
   "source": [
    "dfl.head(3)"
   ]
  },
  {
   "cell_type": "markdown",
   "id": "c3a6e2ab",
   "metadata": {},
   "source": [
    "## Transformación de datos"
   ]
  },
  {
   "cell_type": "markdown",
   "id": "46d69a2b",
   "metadata": {},
   "source": [
    "### Variables categóricas"
   ]
  },
  {
   "cell_type": "markdown",
   "id": "1717244b",
   "metadata": {},
   "source": [
    "#### Categóricas ordinales, es decir, siguien un orden específico"
   ]
  },
  {
   "cell_type": "markdown",
   "id": "5f8b6f99",
   "metadata": {},
   "source": [
    "En esta categoría encontramos *'host response time'* y *'cancellation policy'*"
   ]
  },
  {
   "cell_type": "code",
   "execution_count": 106,
   "id": "9fb4c019",
   "metadata": {},
   "outputs": [
    {
     "data": {
      "text/html": [
       "<div>\n",
       "<style scoped>\n",
       "    .dataframe tbody tr th:only-of-type {\n",
       "        vertical-align: middle;\n",
       "    }\n",
       "\n",
       "    .dataframe tbody tr th {\n",
       "        vertical-align: top;\n",
       "    }\n",
       "\n",
       "    .dataframe thead th {\n",
       "        text-align: right;\n",
       "    }\n",
       "</style>\n",
       "<table border=\"1\" class=\"dataframe\">\n",
       "  <thead>\n",
       "    <tr style=\"text-align: right;\">\n",
       "      <th></th>\n",
       "      <th>host response time</th>\n",
       "      <th>host response rate</th>\n",
       "      <th>host verifications</th>\n",
       "      <th>latitude</th>\n",
       "      <th>longitude</th>\n",
       "      <th>property type</th>\n",
       "      <th>room type</th>\n",
       "      <th>bathrooms</th>\n",
       "      <th>bedrooms</th>\n",
       "      <th>beds</th>\n",
       "      <th>bed type</th>\n",
       "      <th>amenities</th>\n",
       "      <th>security deposit</th>\n",
       "      <th>cleaning fee</th>\n",
       "      <th>guests included</th>\n",
       "      <th>extra people</th>\n",
       "      <th>minimum nights</th>\n",
       "      <th>maximum nights</th>\n",
       "      <th>availability 365</th>\n",
       "      <th>number of reviews</th>\n",
       "      <th>cancellation policy</th>\n",
       "      <th>features</th>\n",
       "      <th>price</th>\n",
       "      <th>average review</th>\n",
       "      <th>final neighbourhood</th>\n",
       "      <th>years being host</th>\n",
       "    </tr>\n",
       "  </thead>\n",
       "  <tbody>\n",
       "    <tr>\n",
       "      <th>0</th>\n",
       "      <td>0</td>\n",
       "      <td>84.0</td>\n",
       "      <td>3</td>\n",
       "      <td>40.406953</td>\n",
       "      <td>-3.670894</td>\n",
       "      <td>Apartment</td>\n",
       "      <td>Private room</td>\n",
       "      <td>2.0</td>\n",
       "      <td>1.0</td>\n",
       "      <td>1.0</td>\n",
       "      <td>Real Bed</td>\n",
       "      <td>7</td>\n",
       "      <td>183.0</td>\n",
       "      <td>30.0</td>\n",
       "      <td>1</td>\n",
       "      <td>5</td>\n",
       "      <td>1</td>\n",
       "      <td>1125</td>\n",
       "      <td>240</td>\n",
       "      <td>171</td>\n",
       "      <td>0</td>\n",
       "      <td>3</td>\n",
       "      <td>28.0</td>\n",
       "      <td>20.142857</td>\n",
       "      <td>Retiro</td>\n",
       "      <td>2</td>\n",
       "    </tr>\n",
       "    <tr>\n",
       "      <th>1</th>\n",
       "      <td>1</td>\n",
       "      <td>100.0</td>\n",
       "      <td>3</td>\n",
       "      <td>40.425904</td>\n",
       "      <td>-3.681647</td>\n",
       "      <td>Apartment</td>\n",
       "      <td>Entire home/apt</td>\n",
       "      <td>1.0</td>\n",
       "      <td>0.0</td>\n",
       "      <td>1.0</td>\n",
       "      <td>Real Bed</td>\n",
       "      <td>13</td>\n",
       "      <td>100.0</td>\n",
       "      <td>30.0</td>\n",
       "      <td>1</td>\n",
       "      <td>0</td>\n",
       "      <td>2</td>\n",
       "      <td>1125</td>\n",
       "      <td>15</td>\n",
       "      <td>52</td>\n",
       "      <td>1</td>\n",
       "      <td>3</td>\n",
       "      <td>58.0</td>\n",
       "      <td>22.285714</td>\n",
       "      <td>Salamanca</td>\n",
       "      <td>2</td>\n",
       "    </tr>\n",
       "  </tbody>\n",
       "</table>\n",
       "</div>"
      ],
      "text/plain": [
       "   host response time  host response rate  host verifications   latitude  \\\n",
       "0                   0                84.0                   3  40.406953   \n",
       "1                   1               100.0                   3  40.425904   \n",
       "\n",
       "   longitude property type        room type  bathrooms  bedrooms  beds  \\\n",
       "0  -3.670894     Apartment     Private room        2.0       1.0   1.0   \n",
       "1  -3.681647     Apartment  Entire home/apt        1.0       0.0   1.0   \n",
       "\n",
       "   bed type  amenities  security deposit  cleaning fee  guests included  \\\n",
       "0  Real Bed          7             183.0          30.0                1   \n",
       "1  Real Bed         13             100.0          30.0                1   \n",
       "\n",
       "   extra people  minimum nights  maximum nights  availability 365  \\\n",
       "0             5               1            1125               240   \n",
       "1             0               2            1125                15   \n",
       "\n",
       "   number of reviews  cancellation policy  features  price  average review  \\\n",
       "0                171                    0         3   28.0       20.142857   \n",
       "1                 52                    1         3   58.0       22.285714   \n",
       "\n",
       "  final neighbourhood  years being host  \n",
       "0              Retiro                 2  \n",
       "1           Salamanca                 2  "
      ]
     },
     "execution_count": 106,
     "metadata": {},
     "output_type": "execute_result"
    }
   ],
   "source": [
    "# Orden de las categorías\n",
    "host_response_time_order = ['within an hour', 'within a few hours', 'within a day', 'a few days or more']\n",
    "cancellation_policy_order = ['flexible', 'moderate', 'strict']\n",
    "encoder = OrdinalEncoder(categories=[host_response_time_order, cancellation_policy_order])\n",
    "dfl_catord = dfl.copy()\n",
    "dfl_catord['host response time'] = dfl['host response time'].map({category: i for i, category in enumerate(host_response_time_order)})\n",
    "dfl_catord['cancellation policy'] = dfl['cancellation policy'].map({category: i for i, category in enumerate(cancellation_policy_order)})\n",
    "dfl_catord.head(2)"
   ]
  },
  {
   "cell_type": "markdown",
   "id": "3ea26fa5",
   "metadata": {},
   "source": [
    "#### Categóricas que no siguien un orden específico"
   ]
  },
  {
   "cell_type": "code",
   "execution_count": 107,
   "id": "1c279b2a",
   "metadata": {},
   "outputs": [],
   "source": [
    "categoricas =['property type','room type', 'bed type', 'final neighbourhood'   \n",
    "]\n",
    "encoder = OneHotEncoder()\n",
    "dfl_cat = encoder.fit_transform(dfl_catord[categoricas])\n",
    "dfl_cat = pd.DataFrame(dfl_cat.toarray(), columns=encoder.get_feature_names_out(categoricas))\n",
    "data_encoded = pd.concat([dfl_catord.drop(categoricas, axis=1), dfl_cat], axis=1)"
   ]
  },
  {
   "cell_type": "code",
   "execution_count": 108,
   "id": "bdfcd597",
   "metadata": {},
   "outputs": [
    {
     "data": {
      "text/html": [
       "<div>\n",
       "<style scoped>\n",
       "    .dataframe tbody tr th:only-of-type {\n",
       "        vertical-align: middle;\n",
       "    }\n",
       "\n",
       "    .dataframe tbody tr th {\n",
       "        vertical-align: top;\n",
       "    }\n",
       "\n",
       "    .dataframe thead th {\n",
       "        text-align: right;\n",
       "    }\n",
       "</style>\n",
       "<table border=\"1\" class=\"dataframe\">\n",
       "  <thead>\n",
       "    <tr style=\"text-align: right;\">\n",
       "      <th></th>\n",
       "      <th>host response time</th>\n",
       "      <th>host response rate</th>\n",
       "      <th>host verifications</th>\n",
       "      <th>latitude</th>\n",
       "      <th>longitude</th>\n",
       "      <th>bathrooms</th>\n",
       "      <th>bedrooms</th>\n",
       "      <th>beds</th>\n",
       "      <th>amenities</th>\n",
       "      <th>security deposit</th>\n",
       "      <th>cleaning fee</th>\n",
       "      <th>guests included</th>\n",
       "      <th>extra people</th>\n",
       "      <th>minimum nights</th>\n",
       "      <th>maximum nights</th>\n",
       "      <th>availability 365</th>\n",
       "      <th>number of reviews</th>\n",
       "      <th>cancellation policy</th>\n",
       "      <th>features</th>\n",
       "      <th>price</th>\n",
       "      <th>average review</th>\n",
       "      <th>years being host</th>\n",
       "      <th>property type_Apartment</th>\n",
       "      <th>property type_Bed &amp; Breakfast</th>\n",
       "      <th>property type_Condominium</th>\n",
       "      <th>property type_House</th>\n",
       "      <th>property type_Loft</th>\n",
       "      <th>property type_Other</th>\n",
       "      <th>room type_Entire home/apt</th>\n",
       "      <th>room type_Private room</th>\n",
       "      <th>room type_Shared room</th>\n",
       "      <th>bed type_Pull-out Sofa</th>\n",
       "      <th>bed type_Real Bed</th>\n",
       "      <th>final neighbourhood_Arganzuela</th>\n",
       "      <th>final neighbourhood_Carabanchel</th>\n",
       "      <th>final neighbourhood_Centro</th>\n",
       "      <th>final neighbourhood_Chamartín</th>\n",
       "      <th>final neighbourhood_Chamberí</th>\n",
       "      <th>final neighbourhood_Ciudad Lineal</th>\n",
       "      <th>final neighbourhood_Latina</th>\n",
       "      <th>final neighbourhood_Moncloa - Aravaca</th>\n",
       "      <th>final neighbourhood_Puente de Vallecas</th>\n",
       "      <th>final neighbourhood_Retiro</th>\n",
       "      <th>final neighbourhood_Salamanca</th>\n",
       "      <th>final neighbourhood_Tetuán</th>\n",
       "    </tr>\n",
       "  </thead>\n",
       "  <tbody>\n",
       "    <tr>\n",
       "      <th>0</th>\n",
       "      <td>0</td>\n",
       "      <td>84.0</td>\n",
       "      <td>3</td>\n",
       "      <td>40.406953</td>\n",
       "      <td>-3.670894</td>\n",
       "      <td>2.0</td>\n",
       "      <td>1.0</td>\n",
       "      <td>1.0</td>\n",
       "      <td>7</td>\n",
       "      <td>183.0</td>\n",
       "      <td>30.0</td>\n",
       "      <td>1</td>\n",
       "      <td>5</td>\n",
       "      <td>1</td>\n",
       "      <td>1125</td>\n",
       "      <td>240</td>\n",
       "      <td>171</td>\n",
       "      <td>0</td>\n",
       "      <td>3</td>\n",
       "      <td>28.0</td>\n",
       "      <td>20.142857</td>\n",
       "      <td>2</td>\n",
       "      <td>1.0</td>\n",
       "      <td>0.0</td>\n",
       "      <td>0.0</td>\n",
       "      <td>0.0</td>\n",
       "      <td>0.0</td>\n",
       "      <td>0.0</td>\n",
       "      <td>0.0</td>\n",
       "      <td>1.0</td>\n",
       "      <td>0.0</td>\n",
       "      <td>0.0</td>\n",
       "      <td>1.0</td>\n",
       "      <td>0.0</td>\n",
       "      <td>0.0</td>\n",
       "      <td>0.0</td>\n",
       "      <td>0.0</td>\n",
       "      <td>0.0</td>\n",
       "      <td>0.0</td>\n",
       "      <td>0.0</td>\n",
       "      <td>0.0</td>\n",
       "      <td>0.0</td>\n",
       "      <td>1.0</td>\n",
       "      <td>0.0</td>\n",
       "      <td>0.0</td>\n",
       "    </tr>\n",
       "    <tr>\n",
       "      <th>1</th>\n",
       "      <td>1</td>\n",
       "      <td>100.0</td>\n",
       "      <td>3</td>\n",
       "      <td>40.425904</td>\n",
       "      <td>-3.681647</td>\n",
       "      <td>1.0</td>\n",
       "      <td>0.0</td>\n",
       "      <td>1.0</td>\n",
       "      <td>13</td>\n",
       "      <td>100.0</td>\n",
       "      <td>30.0</td>\n",
       "      <td>1</td>\n",
       "      <td>0</td>\n",
       "      <td>2</td>\n",
       "      <td>1125</td>\n",
       "      <td>15</td>\n",
       "      <td>52</td>\n",
       "      <td>1</td>\n",
       "      <td>3</td>\n",
       "      <td>58.0</td>\n",
       "      <td>22.285714</td>\n",
       "      <td>2</td>\n",
       "      <td>1.0</td>\n",
       "      <td>0.0</td>\n",
       "      <td>0.0</td>\n",
       "      <td>0.0</td>\n",
       "      <td>0.0</td>\n",
       "      <td>0.0</td>\n",
       "      <td>1.0</td>\n",
       "      <td>0.0</td>\n",
       "      <td>0.0</td>\n",
       "      <td>0.0</td>\n",
       "      <td>1.0</td>\n",
       "      <td>0.0</td>\n",
       "      <td>0.0</td>\n",
       "      <td>0.0</td>\n",
       "      <td>0.0</td>\n",
       "      <td>0.0</td>\n",
       "      <td>0.0</td>\n",
       "      <td>0.0</td>\n",
       "      <td>0.0</td>\n",
       "      <td>0.0</td>\n",
       "      <td>0.0</td>\n",
       "      <td>1.0</td>\n",
       "      <td>0.0</td>\n",
       "    </tr>\n",
       "  </tbody>\n",
       "</table>\n",
       "</div>"
      ],
      "text/plain": [
       "   host response time  host response rate  host verifications   latitude  \\\n",
       "0                   0                84.0                   3  40.406953   \n",
       "1                   1               100.0                   3  40.425904   \n",
       "\n",
       "   longitude  bathrooms  bedrooms  beds  amenities  security deposit  \\\n",
       "0  -3.670894        2.0       1.0   1.0          7             183.0   \n",
       "1  -3.681647        1.0       0.0   1.0         13             100.0   \n",
       "\n",
       "   cleaning fee  guests included  extra people  minimum nights  \\\n",
       "0          30.0                1             5               1   \n",
       "1          30.0                1             0               2   \n",
       "\n",
       "   maximum nights  availability 365  number of reviews  cancellation policy  \\\n",
       "0            1125               240                171                    0   \n",
       "1            1125                15                 52                    1   \n",
       "\n",
       "   features  price  average review  years being host  property type_Apartment  \\\n",
       "0         3   28.0       20.142857                 2                      1.0   \n",
       "1         3   58.0       22.285714                 2                      1.0   \n",
       "\n",
       "   property type_Bed & Breakfast  property type_Condominium  \\\n",
       "0                            0.0                        0.0   \n",
       "1                            0.0                        0.0   \n",
       "\n",
       "   property type_House  property type_Loft  property type_Other  \\\n",
       "0                  0.0                 0.0                  0.0   \n",
       "1                  0.0                 0.0                  0.0   \n",
       "\n",
       "   room type_Entire home/apt  room type_Private room  room type_Shared room  \\\n",
       "0                        0.0                     1.0                    0.0   \n",
       "1                        1.0                     0.0                    0.0   \n",
       "\n",
       "   bed type_Pull-out Sofa  bed type_Real Bed  final neighbourhood_Arganzuela  \\\n",
       "0                     0.0                1.0                             0.0   \n",
       "1                     0.0                1.0                             0.0   \n",
       "\n",
       "   final neighbourhood_Carabanchel  final neighbourhood_Centro  \\\n",
       "0                              0.0                         0.0   \n",
       "1                              0.0                         0.0   \n",
       "\n",
       "   final neighbourhood_Chamartín  final neighbourhood_Chamberí  \\\n",
       "0                            0.0                           0.0   \n",
       "1                            0.0                           0.0   \n",
       "\n",
       "   final neighbourhood_Ciudad Lineal  final neighbourhood_Latina  \\\n",
       "0                                0.0                         0.0   \n",
       "1                                0.0                         0.0   \n",
       "\n",
       "   final neighbourhood_Moncloa - Aravaca  \\\n",
       "0                                    0.0   \n",
       "1                                    0.0   \n",
       "\n",
       "   final neighbourhood_Puente de Vallecas  final neighbourhood_Retiro  \\\n",
       "0                                     0.0                         1.0   \n",
       "1                                     0.0                         0.0   \n",
       "\n",
       "   final neighbourhood_Salamanca  final neighbourhood_Tetuán  \n",
       "0                            0.0                         0.0  \n",
       "1                            1.0                         0.0  "
      ]
     },
     "execution_count": 108,
     "metadata": {},
     "output_type": "execute_result"
    }
   ],
   "source": [
    "data_encoded.head(2)"
   ]
  },
  {
   "cell_type": "markdown",
   "id": "61bcb7e6",
   "metadata": {},
   "source": [
    "## Separación rain y test "
   ]
  },
  {
   "cell_type": "code",
   "execution_count": 109,
   "id": "fc73f4e6",
   "metadata": {},
   "outputs": [],
   "source": [
    "X_train, X_test, y_train, y_test = train_test_split(data_encoded, data_encoded['price'], test_size=0.30, random_state=42)"
   ]
  },
  {
   "cell_type": "code",
   "execution_count": 110,
   "id": "b84796e7",
   "metadata": {},
   "outputs": [],
   "source": [
    "X_train.drop(['price'], axis=1, inplace=True)\n",
    "X_test.drop(['price'], axis=1, inplace=True)"
   ]
  },
  {
   "cell_type": "code",
   "execution_count": 111,
   "id": "8074d666",
   "metadata": {},
   "outputs": [
    {
     "data": {
      "text/html": [
       "<div>\n",
       "<style scoped>\n",
       "    .dataframe tbody tr th:only-of-type {\n",
       "        vertical-align: middle;\n",
       "    }\n",
       "\n",
       "    .dataframe tbody tr th {\n",
       "        vertical-align: top;\n",
       "    }\n",
       "\n",
       "    .dataframe thead th {\n",
       "        text-align: right;\n",
       "    }\n",
       "</style>\n",
       "<table border=\"1\" class=\"dataframe\">\n",
       "  <thead>\n",
       "    <tr style=\"text-align: right;\">\n",
       "      <th></th>\n",
       "      <th>host response time</th>\n",
       "      <th>host response rate</th>\n",
       "      <th>host verifications</th>\n",
       "      <th>latitude</th>\n",
       "      <th>longitude</th>\n",
       "      <th>bathrooms</th>\n",
       "      <th>bedrooms</th>\n",
       "      <th>beds</th>\n",
       "      <th>amenities</th>\n",
       "      <th>security deposit</th>\n",
       "      <th>cleaning fee</th>\n",
       "      <th>guests included</th>\n",
       "      <th>extra people</th>\n",
       "      <th>minimum nights</th>\n",
       "      <th>maximum nights</th>\n",
       "      <th>availability 365</th>\n",
       "      <th>number of reviews</th>\n",
       "      <th>cancellation policy</th>\n",
       "      <th>features</th>\n",
       "      <th>average review</th>\n",
       "      <th>years being host</th>\n",
       "      <th>property type_Apartment</th>\n",
       "      <th>property type_Bed &amp; Breakfast</th>\n",
       "      <th>property type_Condominium</th>\n",
       "      <th>property type_House</th>\n",
       "      <th>property type_Loft</th>\n",
       "      <th>property type_Other</th>\n",
       "      <th>room type_Entire home/apt</th>\n",
       "      <th>room type_Private room</th>\n",
       "      <th>room type_Shared room</th>\n",
       "      <th>bed type_Pull-out Sofa</th>\n",
       "      <th>bed type_Real Bed</th>\n",
       "      <th>final neighbourhood_Arganzuela</th>\n",
       "      <th>final neighbourhood_Carabanchel</th>\n",
       "      <th>final neighbourhood_Centro</th>\n",
       "      <th>final neighbourhood_Chamartín</th>\n",
       "      <th>final neighbourhood_Chamberí</th>\n",
       "      <th>final neighbourhood_Ciudad Lineal</th>\n",
       "      <th>final neighbourhood_Latina</th>\n",
       "      <th>final neighbourhood_Moncloa - Aravaca</th>\n",
       "      <th>final neighbourhood_Puente de Vallecas</th>\n",
       "      <th>final neighbourhood_Retiro</th>\n",
       "      <th>final neighbourhood_Salamanca</th>\n",
       "      <th>final neighbourhood_Tetuán</th>\n",
       "    </tr>\n",
       "  </thead>\n",
       "  <tbody>\n",
       "    <tr>\n",
       "      <th>114</th>\n",
       "      <td>0</td>\n",
       "      <td>100.0</td>\n",
       "      <td>6</td>\n",
       "      <td>40.403312</td>\n",
       "      <td>-3.692192</td>\n",
       "      <td>1.0</td>\n",
       "      <td>1.0</td>\n",
       "      <td>3.0</td>\n",
       "      <td>20</td>\n",
       "      <td>183.0</td>\n",
       "      <td>25.0</td>\n",
       "      <td>2</td>\n",
       "      <td>15</td>\n",
       "      <td>2</td>\n",
       "      <td>365</td>\n",
       "      <td>295</td>\n",
       "      <td>8</td>\n",
       "      <td>0</td>\n",
       "      <td>6</td>\n",
       "      <td>22.428571</td>\n",
       "      <td>2</td>\n",
       "      <td>1.0</td>\n",
       "      <td>0.0</td>\n",
       "      <td>0.0</td>\n",
       "      <td>0.0</td>\n",
       "      <td>0.0</td>\n",
       "      <td>0.0</td>\n",
       "      <td>1.0</td>\n",
       "      <td>0.0</td>\n",
       "      <td>0.0</td>\n",
       "      <td>0.0</td>\n",
       "      <td>1.0</td>\n",
       "      <td>1.0</td>\n",
       "      <td>0.0</td>\n",
       "      <td>0.0</td>\n",
       "      <td>0.0</td>\n",
       "      <td>0.0</td>\n",
       "      <td>0.0</td>\n",
       "      <td>0.0</td>\n",
       "      <td>0.0</td>\n",
       "      <td>0.0</td>\n",
       "      <td>0.0</td>\n",
       "      <td>0.0</td>\n",
       "      <td>0.0</td>\n",
       "    </tr>\n",
       "    <tr>\n",
       "      <th>5322</th>\n",
       "      <td>0</td>\n",
       "      <td>100.0</td>\n",
       "      <td>4</td>\n",
       "      <td>40.394676</td>\n",
       "      <td>-3.693656</td>\n",
       "      <td>2.0</td>\n",
       "      <td>1.0</td>\n",
       "      <td>2.0</td>\n",
       "      <td>15</td>\n",
       "      <td>100.0</td>\n",
       "      <td>30.0</td>\n",
       "      <td>1</td>\n",
       "      <td>25</td>\n",
       "      <td>2</td>\n",
       "      <td>20</td>\n",
       "      <td>362</td>\n",
       "      <td>0</td>\n",
       "      <td>0</td>\n",
       "      <td>3</td>\n",
       "      <td>21.257599</td>\n",
       "      <td>0</td>\n",
       "      <td>0.0</td>\n",
       "      <td>0.0</td>\n",
       "      <td>1.0</td>\n",
       "      <td>0.0</td>\n",
       "      <td>0.0</td>\n",
       "      <td>0.0</td>\n",
       "      <td>0.0</td>\n",
       "      <td>0.0</td>\n",
       "      <td>1.0</td>\n",
       "      <td>0.0</td>\n",
       "      <td>1.0</td>\n",
       "      <td>1.0</td>\n",
       "      <td>0.0</td>\n",
       "      <td>0.0</td>\n",
       "      <td>0.0</td>\n",
       "      <td>0.0</td>\n",
       "      <td>0.0</td>\n",
       "      <td>0.0</td>\n",
       "      <td>0.0</td>\n",
       "      <td>0.0</td>\n",
       "      <td>0.0</td>\n",
       "      <td>0.0</td>\n",
       "      <td>0.0</td>\n",
       "    </tr>\n",
       "  </tbody>\n",
       "</table>\n",
       "</div>"
      ],
      "text/plain": [
       "      host response time  host response rate  host verifications   latitude  \\\n",
       "114                    0               100.0                   6  40.403312   \n",
       "5322                   0               100.0                   4  40.394676   \n",
       "\n",
       "      longitude  bathrooms  bedrooms  beds  amenities  security deposit  \\\n",
       "114   -3.692192        1.0       1.0   3.0         20             183.0   \n",
       "5322  -3.693656        2.0       1.0   2.0         15             100.0   \n",
       "\n",
       "      cleaning fee  guests included  extra people  minimum nights  \\\n",
       "114           25.0                2            15               2   \n",
       "5322          30.0                1            25               2   \n",
       "\n",
       "      maximum nights  availability 365  number of reviews  \\\n",
       "114              365               295                  8   \n",
       "5322              20               362                  0   \n",
       "\n",
       "      cancellation policy  features  average review  years being host  \\\n",
       "114                     0         6       22.428571                 2   \n",
       "5322                    0         3       21.257599                 0   \n",
       "\n",
       "      property type_Apartment  property type_Bed & Breakfast  \\\n",
       "114                       1.0                            0.0   \n",
       "5322                      0.0                            0.0   \n",
       "\n",
       "      property type_Condominium  property type_House  property type_Loft  \\\n",
       "114                         0.0                  0.0                 0.0   \n",
       "5322                        1.0                  0.0                 0.0   \n",
       "\n",
       "      property type_Other  room type_Entire home/apt  room type_Private room  \\\n",
       "114                   0.0                        1.0                     0.0   \n",
       "5322                  0.0                        0.0                     0.0   \n",
       "\n",
       "      room type_Shared room  bed type_Pull-out Sofa  bed type_Real Bed  \\\n",
       "114                     0.0                     0.0                1.0   \n",
       "5322                    1.0                     0.0                1.0   \n",
       "\n",
       "      final neighbourhood_Arganzuela  final neighbourhood_Carabanchel  \\\n",
       "114                              1.0                              0.0   \n",
       "5322                             1.0                              0.0   \n",
       "\n",
       "      final neighbourhood_Centro  final neighbourhood_Chamartín  \\\n",
       "114                          0.0                            0.0   \n",
       "5322                         0.0                            0.0   \n",
       "\n",
       "      final neighbourhood_Chamberí  final neighbourhood_Ciudad Lineal  \\\n",
       "114                            0.0                                0.0   \n",
       "5322                           0.0                                0.0   \n",
       "\n",
       "      final neighbourhood_Latina  final neighbourhood_Moncloa - Aravaca  \\\n",
       "114                          0.0                                    0.0   \n",
       "5322                         0.0                                    0.0   \n",
       "\n",
       "      final neighbourhood_Puente de Vallecas  final neighbourhood_Retiro  \\\n",
       "114                                      0.0                         0.0   \n",
       "5322                                     0.0                         0.0   \n",
       "\n",
       "      final neighbourhood_Salamanca  final neighbourhood_Tetuán  \n",
       "114                             0.0                         0.0  \n",
       "5322                            0.0                         0.0  "
      ]
     },
     "execution_count": 111,
     "metadata": {},
     "output_type": "execute_result"
    }
   ],
   "source": [
    "X_train.head(2)"
   ]
  },
  {
   "cell_type": "code",
   "execution_count": 112,
   "id": "d68fa0be",
   "metadata": {},
   "outputs": [
    {
     "data": {
      "text/plain": [
       "(8547, 44)"
      ]
     },
     "execution_count": 112,
     "metadata": {},
     "output_type": "execute_result"
    }
   ],
   "source": [
    "X_train.shape"
   ]
  },
  {
   "cell_type": "markdown",
   "id": "aa640bb6",
   "metadata": {},
   "source": [
    "## Modelos básicos"
   ]
  },
  {
   "cell_type": "markdown",
   "id": "7719e314",
   "metadata": {},
   "source": [
    "Para estos modelos necesitamos que las variables estén escaladas. "
   ]
  },
  {
   "cell_type": "markdown",
   "id": "8c375d48",
   "metadata": {},
   "source": [
    "#### Escalado de variables"
   ]
  },
  {
   "cell_type": "code",
   "execution_count": 113,
   "id": "65153c3b",
   "metadata": {},
   "outputs": [],
   "source": [
    "scaler = StandardScaler()\n",
    "model_scaled = scaler.fit(X_train)\n",
    "X_train_scaled = pd.DataFrame(scaler.transform(X_train), columns=X_train.columns, index=X_train.index)\n",
    "X_test_scaled = pd.DataFrame(scaler.transform(X_test), columns=X_test.columns, index=X_test.index)"
   ]
  },
  {
   "cell_type": "markdown",
   "id": "2fdc3191",
   "metadata": {},
   "source": [
    "#### 1. Regresión linear"
   ]
  },
  {
   "cell_type": "code",
   "execution_count": 114,
   "id": "88f291e5",
   "metadata": {},
   "outputs": [
    {
     "name": "stdout",
     "output_type": "stream",
     "text": [
      "Error cuadrático medio: 1877.23\n",
      "Coeficiente de determinación R^2: 0.48\n",
      "Train score: 0.47\n",
      "Test score: 0.48\n"
     ]
    }
   ],
   "source": [
    "lr = LinearRegression()\n",
    "lr.fit(X_train_scaled, y_train)\n",
    "\n",
    "# Realizar predicciones en el conjunto de prueba\n",
    "y_pred_lr = lr.predict(X_test_scaled)\n",
    "\n",
    "# Calcular el error cuadrático medio\n",
    "mse_lr = mean_squared_error(y_test, y_pred_lr)\n",
    "print(\"Error cuadrático medio:\",round(mse_lr,2))\n",
    "\n",
    "#Calcular r^2\n",
    "r2_lr = r2_score(y_test, y_pred_lr)\n",
    "print('Coeficiente de determinación R^2:',round(r2_lr,2))\n",
    "\n",
    "train_score_lr = lr.score(X_train_scaled, y_train)\n",
    "print(\"Train score:\", round(train_score_lr,2))\n",
    "\n",
    "# Calcular el puntaje de prueba\n",
    "test_score_lr = lr.score(X_test_scaled, y_test)\n",
    "print(\"Test score:\", round(test_score_lr,2))"
   ]
  },
  {
   "cell_type": "code",
   "execution_count": 115,
   "id": "71238fb4",
   "metadata": {},
   "outputs": [
    {
     "data": {
      "image/png": "[encoded data removed]",
      "text/plain": [
       "<Figure size 640x480 with 1 Axes>"
      ]
     },
     "metadata": {},
     "output_type": "display_data"
    }
   ],
   "source": [
    "y_train_pred = lr.predict(X_train_scaled)\n",
    "y_test_pred = lr.predict(X_test_scaled)\n",
    "\n",
    "plt.scatter(y_train, y_train_pred, color='blue', label='Training data')\n",
    "plt.scatter(y_test, y_test_pred, color='red', label='Test data')\n",
    "plt.plot([y_train.min(), y_train.max()], [y_train.min(), y_train.max()], color='black', linestyle='--')\n",
    "plt.xlabel('Valores reales')\n",
    "plt.ylabel('Valores predichos')\n",
    "plt.title('Regresión lineal - Valores reales vs Valores predichos')\n",
    "plt.legend()\n",
    "plt.show()"
   ]
  },
  {
   "cell_type": "markdown",
   "id": "0955bc70",
   "metadata": {},
   "source": [
    "#### 2. Ridge Regression"
   ]
  },
  {
   "cell_type": "code",
   "execution_count": 116,
   "id": "af67091e",
   "metadata": {},
   "outputs": [
    {
     "name": "stdout",
     "output_type": "stream",
     "text": [
      "Error cuadrático medio: 1877.18\n",
      "Coeficiente de determinación R^2: 0.48\n",
      "Train score: 0.47\n",
      "Test score: 0.48\n"
     ]
    }
   ],
   "source": [
    "ridge = Ridge(alpha=0.1) \n",
    "ridge.fit(X_train_scaled, y_train)\n",
    "y_pred_ridge = ridge.predict(X_test_scaled)\n",
    "\n",
    "# Calcular el error cuadrático medio\n",
    "mse_ridge = mean_squared_error(y_test, y_pred_ridge)\n",
    "print(\"Error cuadrático medio:\",round(mse_ridge,2))\n",
    "\n",
    "#Calcular r^2\n",
    "r2_ridge = r2_score(y_test, y_pred_ridge)\n",
    "print('Coeficiente de determinación R^2:',round(r2_ridge,2))\n",
    "\n",
    "train_score_ridge = ridge.score(X_train_scaled, y_train)\n",
    "print(\"Train score:\", round(train_score_ridge,2))\n",
    "\n",
    "# Calcular el puntaje de prueba\n",
    "test_score_ridge = ridge.score(X_test_scaled, y_test)\n",
    "print(\"Test score:\", round(test_score_ridge,2))"
   ]
  },
  {
   "cell_type": "code",
   "execution_count": 117,
   "id": "a5f4fab1",
   "metadata": {},
   "outputs": [
    {
     "name": "stdout",
     "output_type": "stream",
     "text": [
      "Mejores hiperparámetros: {'alpha': 100}\n"
     ]
    }
   ],
   "source": [
    "parameters = {'alpha': [0.0001,0.001,0.01,0.1,10,100, 1000, 10000, 100000]}\n",
    "ridge = Ridge()\n",
    "\n",
    "# Gridsearch\n",
    "grid_search = GridSearchCV(ridge, parameters)\n",
    "grid_search.fit(X_train_scaled, y_train)\n",
    "\n",
    "# Mejores parametros\n",
    "best_params = grid_search.best_params_\n",
    "print(\"Mejores hiperparámetros:\", best_params)"
   ]
  },
  {
   "cell_type": "code",
   "execution_count": 118,
   "id": "7298d074",
   "metadata": {},
   "outputs": [
    {
     "name": "stdout",
     "output_type": "stream",
     "text": [
      "Error cuadrático medio: 1876.31\n",
      "Coeficiente de determinación R^2: 0.48\n",
      "Train score: 0.47\n",
      "Test score: 0.48\n"
     ]
    }
   ],
   "source": [
    "ridge = Ridge(alpha=100) \n",
    "ridge.fit(X_train_scaled, y_train)\n",
    "y_pred_ridge = ridge.predict(X_test_scaled)\n",
    "\n",
    "# Calcular el error cuadrático medio\n",
    "mse_ridge = mean_squared_error(y_test, y_pred_ridge)\n",
    "print(\"Error cuadrático medio:\",round(mse_ridge,2))\n",
    "\n",
    "#Calcular r^2\n",
    "r2_ridge = r2_score(y_test, y_pred_ridge)\n",
    "print('Coeficiente de determinación R^2:',round(r2_ridge,2))\n",
    "\n",
    "train_score_ridge = ridge.score(X_train_scaled, y_train)\n",
    "print(\"Train score:\", round(train_score_ridge,2))\n",
    "\n",
    "# Calcular el puntaje de prueba\n",
    "test_score_ridge = ridge.score(X_test_scaled, y_test)\n",
    "print(\"Test score:\", round(test_score_ridge,2))"
   ]
  },
  {
   "cell_type": "markdown",
   "id": "81a723f7",
   "metadata": {},
   "source": [
    "#### 3. Lasso "
   ]
  },
  {
   "cell_type": "code",
   "execution_count": 119,
   "id": "5c0fba42",
   "metadata": {},
   "outputs": [
    {
     "name": "stdout",
     "output_type": "stream",
     "text": [
      "Error cuadrático medio: 1876.25\n",
      "Coeficiente de determinación R^2: 0.48\n",
      "Train score: 0.47\n",
      "Test score: 0.48\n"
     ]
    }
   ],
   "source": [
    "lasso = Lasso(alpha=0.1)\n",
    "lasso.fit(X_train_scaled, y_train)\n",
    "y_pred_lasso = lasso.predict(X_test_scaled)\n",
    "\n",
    "# Calcular el error cuadrático medio\n",
    "mse = mean_squared_error(y_test, y_pred_lasso)\n",
    "print(\"Error cuadrático medio:\",round(mse,2))\n",
    "\n",
    "#Calcular r^2\n",
    "r2 = r2_score(y_test, y_pred_lasso)\n",
    "print('Coeficiente de determinación R^2:',round(r2,2))\n",
    "\n",
    "train_score = lasso.score(X_train_scaled, y_train)\n",
    "print(\"Train score:\", round(train_score,2))\n",
    "\n",
    "# Calcular el puntaje de prueba\n",
    "test_score = lasso.score(X_test_scaled, y_test)\n",
    "print(\"Test score:\", round(test_score,2))"
   ]
  },
  {
   "cell_type": "code",
   "execution_count": 120,
   "id": "33b05b09",
   "metadata": {},
   "outputs": [
    {
     "name": "stdout",
     "output_type": "stream",
     "text": [
      "Mejores hiperparámetros: {'alpha': 0.3}\n"
     ]
    }
   ],
   "source": [
    "parameters = {'alpha': [0.01, 0.1, 0.3,0.8, 1.0]} \n",
    "\n",
    "lasso = Lasso()\n",
    "\n",
    "# Grid search\n",
    "grid_search = GridSearchCV(lasso, parameters)\n",
    "grid_search.fit(X_train_scaled, y_train)\n",
    "\n",
    "# Mejores parametros\n",
    "best_params = grid_search.best_params_\n",
    "print(\"Mejores hiperparámetros:\", best_params)"
   ]
  },
  {
   "cell_type": "code",
   "execution_count": 121,
   "id": "cff344c5",
   "metadata": {},
   "outputs": [
    {
     "name": "stdout",
     "output_type": "stream",
     "text": [
      "Error cuadrático medio: 1877.86\n",
      "Coeficiente de determinación R^2: 0.48\n",
      "Train score: 0.47\n",
      "Test score: 0.48\n"
     ]
    }
   ],
   "source": [
    "lasso = Lasso(alpha=0.3)  \n",
    "lasso.fit(X_train_scaled, y_train)\n",
    "y_pred_lasso = lasso.predict(X_test_scaled)\n",
    "\n",
    "# Calcular el error cuadrático medio\n",
    "mse_lasso = mean_squared_error(y_test, y_pred_lasso)\n",
    "print(\"Error cuadrático medio:\",round(mse_lasso,2))\n",
    "\n",
    "#Calcular r^2\n",
    "r2_lasso = r2_score(y_test, y_pred_lasso)\n",
    "print('Coeficiente de determinación R^2:',round(r2_lasso,2))\n",
    "\n",
    "train_score_lasso = lasso.score(X_train_scaled, y_train)\n",
    "print(\"Train score:\", round(train_score_lasso,2))\n",
    "\n",
    "# Calcular el puntaje de prueba\n",
    "test_score_lasso = lasso.score(X_test_scaled, y_test)\n",
    "print(\"Test score:\", round(test_score_lasso,2))"
   ]
  },
  {
   "cell_type": "markdown",
   "id": "69429f7d",
   "metadata": {},
   "source": [
    "Tanto Lasso como Ridge no han añadido valor a los resultados ya reflejados por el modelo de regresión lineal. es por eso que a continuación probaremos con otros modelos más complejos con los que se espera obtener mejores resultados."
   ]
  },
  {
   "cell_type": "markdown",
   "id": "2a2d09b9",
   "metadata": {},
   "source": [
    "## Árboles y ensamblaje"
   ]
  },
  {
   "cell_type": "markdown",
   "id": "0376323c",
   "metadata": {},
   "source": [
    "Los modelos de árboles no requieren normalización de los datos. Lo que vamos a realizar es: \n",
    "1. Ejecutar el modelo sin ningún parámetro.\n",
    "2. Realizar una validación cruzada con varios parámetros para averiguar cuales son los mejores.\n",
    "3. Volver a ejecutar el modelo con los parámetros que maximizan el rendimiento."
   ]
  },
  {
   "cell_type": "markdown",
   "id": "3be12568",
   "metadata": {},
   "source": [
    "#### Decision Tree Regressor"
   ]
  },
  {
   "cell_type": "code",
   "execution_count": 22,
   "id": "37c669bb",
   "metadata": {},
   "outputs": [
    {
     "name": "stdout",
     "output_type": "stream",
     "text": [
      "Error cuadrático medio: 2455.09\n",
      "Coeficiente de determinación R^2: 0.32\n",
      "Train score: 1.0\n",
      "Test score: 0.32\n"
     ]
    }
   ],
   "source": [
    "tree = DecisionTreeRegressor()\n",
    "\n",
    "# Entrenar el modelo con los datos de entrenamiento\n",
    "tree.fit(X_train, y_train)\n",
    "\n",
    "# Realizar predicciones en el conjunto de prueba\n",
    "y_pred_tree = tree.predict(X_test)\n",
    "\n",
    "# Calcular el error cuadrático medio\n",
    "mse_tree = mean_squared_error(y_test, y_pred_tree)\n",
    "print(\"Error cuadrático medio:\",round(mse_tree,2))\n",
    "\n",
    "#Calcular r^2\n",
    "r2_tree = r2_score(y_test, y_pred_tree)\n",
    "print('Coeficiente de determinación R^2:',round(r2_tree,2))\n",
    "\n",
    "train_score_tree = tree.score(X_train, y_train)\n",
    "print(\"Train score:\", round(train_score_tree,2))\n",
    "\n",
    "# Calcular el puntaje de prueba\n",
    "test_score_tree = tree.score(X_test, y_test)\n",
    "print(\"Test score:\", round(test_score_tree,2))\n"
   ]
  },
  {
   "cell_type": "code",
   "execution_count": 34,
   "id": "cbf817e7",
   "metadata": {},
   "outputs": [
    {
     "data": {
      "text/plain": [
       "{'max_depth': 5, 'min_samples_split': 2}"
      ]
     },
     "execution_count": 34,
     "metadata": {},
     "output_type": "execute_result"
    }
   ],
   "source": [
    "grid_tree_model = DecisionTreeRegressor(random_state=42)\n",
    "\n",
    "param_grid_tree = {\n",
    "    'max_depth': [None,3,5,7, 10, 13,15],  # Valores para probar la profundidad máxima del árbol\n",
    "    'min_samples_split': [2,5,8,10],  # Valores para probar el número mínimo de muestras requeridas para dividir un nodo interno\n",
    "    # Agrega otros parámetros que desees ajustar\n",
    "}\n",
    "# Grid search\n",
    "grid_search_tree = GridSearchCV(estimator=grid_tree_model, param_grid=param_grid_tree, cv=5, scoring='neg_mean_squared_error')\n",
    "grid_search_tree.fit(X_train, y_train)\n",
    "\n",
    "# Mejores parametros\n",
    "best_params_tree = grid_search_tree.best_params_\n",
    "best_model_tree = grid_search_tree.best_estimator_\n",
    "\n",
    "best_params_tree"
   ]
  },
  {
   "cell_type": "code",
   "execution_count": 122,
   "id": "6b75eae6",
   "metadata": {},
   "outputs": [
    {
     "name": "stdout",
     "output_type": "stream",
     "text": [
      "Error cuadrático medio: 1751.37\n",
      "Coeficiente de determinación R^2: 0.52\n",
      "Train score: 0.65\n",
      "Test score: 0.52\n"
     ]
    }
   ],
   "source": [
    "tree = DecisionTreeRegressor(max_depth=5, min_samples_split =2)\n",
    "\n",
    "# Entrenar el modelo con los datos de entrenamiento\n",
    "tree.fit(X_train, y_train)\n",
    "\n",
    "# Realizar predicciones en el conjunto de prueba\n",
    "y_pred_tree = tree.predict(X_test)\n",
    "\n",
    "# Calcular el error cuadrático medio\n",
    "mse_tree = mean_squared_error(y_test, y_pred_tree)\n",
    "print(\"Error cuadrático medio:\",round(mse_tree,2))\n",
    "\n",
    "#Calcular r^2\n",
    "r2_tree = r2_score(y_test, y_pred_tree)\n",
    "print('Coeficiente de determinación R^2:',round(r2_tree,2))\n",
    "\n",
    "train_score_tree = tree.score(X_train, y_train)\n",
    "print(\"Train score:\", round(train_score_tree,2))\n",
    "\n",
    "# Calcular el puntaje de prueba\n",
    "test_score_tree = tree.score(X_test, y_test)\n",
    "print(\"Test score:\", round(test_score_tree,2))\n"
   ]
  },
  {
   "cell_type": "code",
   "execution_count": 28,
   "id": "f0226380",
   "metadata": {},
   "outputs": [
    {
     "data": {
      "image/png": "[encoded data removed]",
      "text/plain": [
       "<Figure size 1000x800 with 1 Axes>"
      ]
     },
     "metadata": {},
     "output_type": "display_data"
    }
   ],
   "source": [
    "plt.figure(figsize=(10, 8))\n",
    "plot_tree(tree, filled=True, feature_names=X_train.columns,fontsize=7)\n",
    "plt.show()"
   ]
  },
  {
   "cell_type": "markdown",
   "id": "386d55fa",
   "metadata": {},
   "source": [
    "#### Random Forest Regressor "
   ]
  },
  {
   "cell_type": "code",
   "execution_count": 123,
   "id": "114294fa",
   "metadata": {},
   "outputs": [
    {
     "name": "stdout",
     "output_type": "stream",
     "text": [
      "Error cuadrático medio: 1251.21\n",
      "Coeficiente de determinación R^2: 0.65\n",
      "Train score: 0.95\n",
      "Test score: 0.65\n"
     ]
    }
   ],
   "source": [
    "rf_model = RandomForestRegressor()\n",
    "\n",
    "# Train the model\n",
    "rf_model.fit(X_train, y_train)\n",
    "\n",
    "# Make predictions on the test set\n",
    "y_pred_rf = rf_model.predict(X_test)\n",
    "\n",
    "# Calcular el error cuadrático medio\n",
    "mse_rf = mean_squared_error(y_test, y_pred_rf)\n",
    "print(\"Error cuadrático medio:\",round(mse_rf,2))\n",
    "\n",
    "#Calcular r^2\n",
    "r2_rf = r2_score(y_test, y_pred_rf)\n",
    "print('Coeficiente de determinación R^2:',round(r2_rf,2))\n",
    "\n",
    "train_score_rf = rf_model.score(X_train, y_train)\n",
    "print(\"Train score:\", round(train_score_rf,2))\n",
    "\n",
    "# Calcular el puntaje de prueba\n",
    "test_score_rf = rf_model.score(X_test, y_test)\n",
    "print(\"Test score:\", round(test_score_rf,2))"
   ]
  },
  {
   "cell_type": "code",
   "execution_count": 39,
   "id": "33af8b34",
   "metadata": {},
   "outputs": [
    {
     "data": {
      "text/plain": [
       "{'max_depth': None, 'min_samples_split': 2, 'n_estimators': 100}"
      ]
     },
     "execution_count": 39,
     "metadata": {},
     "output_type": "execute_result"
    }
   ],
   "source": [
    "grid_rf_model = RandomForestRegressor(random_state=42)\n",
    "\n",
    "param_grid_rf = {\n",
    "    'n_estimators': [100, 200, 300],  # Valores para probar el número de árboles en el bosque\n",
    "    'max_depth': [None, 3, 5, 7, 10, 13, 15],  # Valores para probar la profundidad máxima de los árboles\n",
    "    'min_samples_split': [2, 5, 8, 10],  # Valores para probar el número mínimo de muestras requeridas para dividir un nodo interno\n",
    "}\n",
    "\n",
    "# Grid search\n",
    "grid_search_rf = GridSearchCV(estimator=grid_rf_model, param_grid=param_grid_rf, cv=5, scoring='neg_mean_squared_error')\n",
    "grid_search_rf.fit(X_train, y_train)\n",
    "\n",
    "# Mejores parametros\n",
    "best_params_rf = grid_search_rf.best_params_\n",
    "best_model_rf = grid_search_rf.best_estimator_\n",
    "\n",
    "best_params_rf"
   ]
  },
  {
   "cell_type": "code",
   "execution_count": 44,
   "id": "affd8605",
   "metadata": {},
   "outputs": [
    {
     "name": "stdout",
     "output_type": "stream",
     "text": [
      "Error cuadrático medio: 1259.08\n",
      "Coeficiente de determinación R^2: 0.65\n",
      "Train score: 0.95\n",
      "Test score: 0.65\n"
     ]
    }
   ],
   "source": [
    "rf_model = RandomForestRegressor(max_depth = None, min_samples_split =2, n_estimators= 100, random_state=42)\n",
    "\n",
    "# Train the model\n",
    "rf_model.fit(X_train, y_train)\n",
    "\n",
    "# Make predictions on the test set\n",
    "y_pred_rf = rf_model.predict(X_test)\n",
    "\n",
    "# Calcular el error cuadrático medio\n",
    "mse_rf = mean_squared_error(y_test, y_pred_rf)\n",
    "print(\"Error cuadrático medio:\",round(mse_rf,2))\n",
    "\n",
    "#Calcular r^2\n",
    "r2_rf = r2_score(y_test, y_pred_rf)\n",
    "print('Coeficiente de determinación R^2:',round(r2_rf,2))\n",
    "\n",
    "train_score_rf = rf_model.score(X_train, y_train)\n",
    "print(\"Train score:\", round(train_score_rf,2))\n",
    "\n",
    "# Calcular el puntaje de prueba\n",
    "test_score_rf = rf_model.score(X_test, y_test)\n",
    "print(\"Test score:\", round(test_score_rf,2))"
   ]
  },
  {
   "cell_type": "markdown",
   "id": "fcde1ed6",
   "metadata": {},
   "source": [
    "#### Gradient Boosting Regressor"
   ]
  },
  {
   "cell_type": "code",
   "execution_count": 131,
   "id": "ae8e9a2c",
   "metadata": {},
   "outputs": [
    {
     "name": "stdout",
     "output_type": "stream",
     "text": [
      "Error cuadrático medio: 1306.98\n",
      "Coeficiente de determinación R^2: 0.64\n",
      "Train score: 0.73\n",
      "Test score: 0.64\n"
     ]
    }
   ],
   "source": [
    "gb_model = GradientBoostingRegressor()\n",
    "\n",
    "# Entrenar el modelo\n",
    "gb_model.fit(X_train, y_train)\n",
    "\n",
    "# Realizar predicciones en el conjunto de prueba\n",
    "y_pred_gb = gb_model.predict(X_test)\n",
    "\n",
    "# Calcular el error cuadrático medio\n",
    "mse_gb = mean_squared_error(y_test, y_pred_gb)\n",
    "print(\"Error cuadrático medio:\", round(mse_gb, 2))\n",
    "\n",
    "# Calcular el coeficiente de determinación R^2\n",
    "r2_gb = r2_score(y_test, y_pred_gb)\n",
    "print('Coeficiente de determinación R^2:', round(r2_gb, 2))\n",
    "\n",
    "# Calcular el puntaje de entrenamiento\n",
    "train_score_gb = gb_model.score(X_train, y_train)\n",
    "print(\"Train score:\", round(train_score_gb, 2))\n",
    "\n",
    "# Calcular el puntaje de prueba\n",
    "test_score_gb = gb_model.score(X_test, y_test)\n",
    "print(\"Test score:\", round(test_score_gb, 2))"
   ]
  },
  {
   "cell_type": "code",
   "execution_count": null,
   "id": "b171037f",
   "metadata": {},
   "outputs": [],
   "source": [
    "grid_gb_model = GradientBoostingRegressor(random_state=42)\n",
    "\n",
    "param_grid_gb = {\n",
    "    'n_estimators': [100, 200, 300],  # Valores para probar el número de árboles en el bosque\n",
    "    'learning_rate': [0.1, 0.01, 0.001],  # Valores para probar la tasa de aprendizaje\n",
    "    'max_depth': [3, 5, 7],  # Valores para probar la profundidad máxima de los árboles\n",
    "    'min_samples_split': [2, 5, 8, 10]  # Valores para probar el número mínimo de muestras requeridas para dividir un nodo interno\n",
    "\n",
    "}\n",
    "\n",
    "# Grid search\n",
    "grid_search_gb = GridSearchCV(estimator=grid_gb_model, param_grid=param_grid_gb, cv=5, scoring='neg_mean_squared_error')\n",
    "grid_search_gb.fit(X_train, y_train)\n",
    "\n",
    "# Mejores parametros\n",
    "best_params_gb = grid_search_gb.best_params_\n",
    "best_model_gb = grid_search_gb.best_estimator_\n",
    "\n",
    "best_params_gb\n",
    "\n",
    "#La solucion ha sido: {'learning_rate': 0.1,  'max_depth': 5,  'min_samples_split': 10,  'n_estimators': 100}"
   ]
  },
  {
   "cell_type": "code",
   "execution_count": 50,
   "id": "3734619a",
   "metadata": {},
   "outputs": [
    {
     "name": "stdout",
     "output_type": "stream",
     "text": [
      "Error cuadrático medio: 1163.66\n",
      "Coeficiente de determinación R^2: 0.68\n",
      "Train score: 0.86\n",
      "Test score: 0.68\n"
     ]
    }
   ],
   "source": [
    "gb_model = GradientBoostingRegressor(learning_rate= 0.1, max_depth= 5, min_samples_split =10, n_estimators= 100)\n",
    "\n",
    "# Entrenar el modelo\n",
    "gb_model.fit(X_train, y_train)\n",
    "\n",
    "# Realizar predicciones en el conjunto de prueba\n",
    "y_pred_gb = gb_model.predict(X_test)\n",
    "\n",
    "# Calcular el error cuadrático medio\n",
    "mse_gb = mean_squared_error(y_test, y_pred_gb)\n",
    "print(\"Error cuadrático medio:\", round(mse_gb, 2))\n",
    "\n",
    "# Calcular el coeficiente de determinación R^2\n",
    "r2_gb = r2_score(y_test, y_pred_gb)\n",
    "print('Coeficiente de determinación R^2:', round(r2_gb, 2))\n",
    "\n",
    "# Calcular el puntaje de entrenamiento\n",
    "train_score_gb = gb_model.score(X_train, y_train)\n",
    "print(\"Train score:\", round(train_score_gb, 2))\n",
    "\n",
    "# Calcular el puntaje de prueba\n",
    "test_score_gb = gb_model.score(X_test, y_test)\n",
    "print(\"Test score:\", round(test_score_gb, 2))"
   ]
  },
  {
   "cell_type": "markdown",
   "id": "b87ba078",
   "metadata": {},
   "source": [
    "En general vemos, que en los tres modelos de árboles realizados, cuando añadimos los valores obtenidos de la validación cruzada el tran score y test score aumentan, mientras que el error cuadrático medio disminuye. "
   ]
  },
  {
   "cell_type": "markdown",
   "id": "ccb09a05",
   "metadata": {},
   "source": [
    "## Comparación de modelos"
   ]
  },
  {
   "cell_type": "markdown",
   "id": "35cff276",
   "metadata": {},
   "source": [
    "#### Predicciones según el modelo "
   ]
  },
  {
   "cell_type": "code",
   "execution_count": 129,
   "id": "79f411a6",
   "metadata": {},
   "outputs": [
    {
     "data": {
      "text/html": [
       "<div>\n",
       "<style scoped>\n",
       "    .dataframe tbody tr th:only-of-type {\n",
       "        vertical-align: middle;\n",
       "    }\n",
       "\n",
       "    .dataframe tbody tr th {\n",
       "        vertical-align: top;\n",
       "    }\n",
       "\n",
       "    .dataframe thead th {\n",
       "        text-align: right;\n",
       "    }\n",
       "</style>\n",
       "<table border=\"1\" class=\"dataframe\">\n",
       "  <thead>\n",
       "    <tr style=\"text-align: right;\">\n",
       "      <th></th>\n",
       "      <th>Precio</th>\n",
       "      <th>Precio lr</th>\n",
       "      <th>Precio tree</th>\n",
       "      <th>Precio rf</th>\n",
       "      <th>Precio gb</th>\n",
       "    </tr>\n",
       "  </thead>\n",
       "  <tbody>\n",
       "    <tr>\n",
       "      <th>2919</th>\n",
       "      <td>60.0</td>\n",
       "      <td>114.88</td>\n",
       "      <td>132.58</td>\n",
       "      <td>109.64</td>\n",
       "      <td>147.91</td>\n",
       "    </tr>\n",
       "    <tr>\n",
       "      <th>4561</th>\n",
       "      <td>39.0</td>\n",
       "      <td>11.10</td>\n",
       "      <td>32.37</td>\n",
       "      <td>33.63</td>\n",
       "      <td>33.20</td>\n",
       "    </tr>\n",
       "    <tr>\n",
       "      <th>5206</th>\n",
       "      <td>80.0</td>\n",
       "      <td>50.97</td>\n",
       "      <td>58.86</td>\n",
       "      <td>62.05</td>\n",
       "      <td>66.57</td>\n",
       "    </tr>\n",
       "    <tr>\n",
       "      <th>3101</th>\n",
       "      <td>25.0</td>\n",
       "      <td>43.74</td>\n",
       "      <td>32.37</td>\n",
       "      <td>34.64</td>\n",
       "      <td>37.45</td>\n",
       "    </tr>\n",
       "    <tr>\n",
       "      <th>8203</th>\n",
       "      <td>44.0</td>\n",
       "      <td>71.84</td>\n",
       "      <td>71.21</td>\n",
       "      <td>83.07</td>\n",
       "      <td>69.64</td>\n",
       "    </tr>\n",
       "    <tr>\n",
       "      <th>1355</th>\n",
       "      <td>20.0</td>\n",
       "      <td>5.10</td>\n",
       "      <td>32.37</td>\n",
       "      <td>20.92</td>\n",
       "      <td>14.37</td>\n",
       "    </tr>\n",
       "    <tr>\n",
       "      <th>1369</th>\n",
       "      <td>150.0</td>\n",
       "      <td>139.88</td>\n",
       "      <td>132.58</td>\n",
       "      <td>136.86</td>\n",
       "      <td>159.87</td>\n",
       "    </tr>\n",
       "    <tr>\n",
       "      <th>6870</th>\n",
       "      <td>25.0</td>\n",
       "      <td>-1.97</td>\n",
       "      <td>32.37</td>\n",
       "      <td>29.63</td>\n",
       "      <td>27.68</td>\n",
       "    </tr>\n",
       "    <tr>\n",
       "      <th>2968</th>\n",
       "      <td>50.0</td>\n",
       "      <td>50.06</td>\n",
       "      <td>58.86</td>\n",
       "      <td>54.14</td>\n",
       "      <td>45.14</td>\n",
       "    </tr>\n",
       "    <tr>\n",
       "      <th>6066</th>\n",
       "      <td>26.0</td>\n",
       "      <td>49.49</td>\n",
       "      <td>47.84</td>\n",
       "      <td>49.20</td>\n",
       "      <td>54.90</td>\n",
       "    </tr>\n",
       "  </tbody>\n",
       "</table>\n",
       "</div>"
      ],
      "text/plain": [
       "      Precio  Precio lr  Precio tree  Precio rf  Precio gb\n",
       "2919    60.0     114.88       132.58     109.64     147.91\n",
       "4561    39.0      11.10        32.37      33.63      33.20\n",
       "5206    80.0      50.97        58.86      62.05      66.57\n",
       "3101    25.0      43.74        32.37      34.64      37.45\n",
       "8203    44.0      71.84        71.21      83.07      69.64\n",
       "1355    20.0       5.10        32.37      20.92      14.37\n",
       "1369   150.0     139.88       132.58     136.86     159.87\n",
       "6870    25.0      -1.97        32.37      29.63      27.68\n",
       "2968    50.0      50.06        58.86      54.14      45.14\n",
       "6066    26.0      49.49        47.84      49.20      54.90"
      ]
     },
     "execution_count": 129,
     "metadata": {},
     "output_type": "execute_result"
    }
   ],
   "source": [
    "data = {\n",
    "    'Precio': y_test,\n",
    "    'Precio lr': np.round(y_pred_lr,2),    \n",
    "    'Precio tree': np.round(y_pred_tree,2), \n",
    "    'Precio rf': np.round(y_pred_rf,2),\n",
    "    'Precio gb': np.round(y_pred_gb,2)\n",
    "}\n",
    "\n",
    "df = pd.DataFrame(data, index=X_test.index)\n",
    "dfplot = df.head(10)\n",
    "dfplot"
   ]
  },
  {
   "cell_type": "code",
   "execution_count": 130,
   "id": "163c3600",
   "metadata": {},
   "outputs": [
    {
     "data": {
      "image/png": "[encoded data removed]",
      "text/plain": [
       "<Figure size 1000x400 with 1 Axes>"
      ]
     },
     "metadata": {},
     "output_type": "display_data"
    }
   ],
   "source": [
    "colores = ['blue', 'orange', 'green', 'red', 'purple']\n",
    "fig, ax = plt.subplots(figsize=(10, 4))\n",
    "for i, columna in enumerate(dfplot.columns):\n",
    "    valores = dfplot[columna].values\n",
    "    ax.scatter(range(len(valores)), valores, c=colores[i], label=columna)\n",
    "ax.legend()\n",
    "ax.set_xlabel('Muestra')\n",
    "ax.set_ylabel('Precio')\n",
    "plt.title('¿Qué modelo se acerca más?')\n",
    "plt.show()"
   ]
  },
  {
   "cell_type": "markdown",
   "id": "9c99c152",
   "metadata": {},
   "source": [
    "En este gráfico podemos ver en azul el precio real de los airbnb y en el resto de colores los precios predichos por cada modelo. En general el modelo que más se acerca a predecir los valores reales es el Gradient boos, siendo el valor más cercano en 4 de las 10 muestras escogidas.  "
   ]
  },
  {
   "cell_type": "markdown",
   "id": "39ffbe14",
   "metadata": {},
   "source": [
    "#### Comparación de métricas"
   ]
  },
  {
   "cell_type": "code",
   "execution_count": 126,
   "id": "2863f888",
   "metadata": {},
   "outputs": [
    {
     "data": {
      "text/html": [
       "<div>\n",
       "<style scoped>\n",
       "    .dataframe tbody tr th:only-of-type {\n",
       "        vertical-align: middle;\n",
       "    }\n",
       "\n",
       "    .dataframe tbody tr th {\n",
       "        vertical-align: top;\n",
       "    }\n",
       "\n",
       "    .dataframe thead th {\n",
       "        text-align: right;\n",
       "    }\n",
       "</style>\n",
       "<table border=\"1\" class=\"dataframe\">\n",
       "  <thead>\n",
       "    <tr style=\"text-align: right;\">\n",
       "      <th></th>\n",
       "      <th>Modelos</th>\n",
       "      <th>MSE</th>\n",
       "      <th>R^2</th>\n",
       "      <th>Train score</th>\n",
       "      <th>Test score</th>\n",
       "    </tr>\n",
       "  </thead>\n",
       "  <tbody>\n",
       "    <tr>\n",
       "      <th>0</th>\n",
       "      <td>Regresión Lineal</td>\n",
       "      <td>1877.23</td>\n",
       "      <td>0.48</td>\n",
       "      <td>0.47</td>\n",
       "      <td>0.48</td>\n",
       "    </tr>\n",
       "    <tr>\n",
       "      <th>1</th>\n",
       "      <td>Arbol de decision</td>\n",
       "      <td>1751.37</td>\n",
       "      <td>0.52</td>\n",
       "      <td>0.65</td>\n",
       "      <td>0.52</td>\n",
       "    </tr>\n",
       "    <tr>\n",
       "      <th>2</th>\n",
       "      <td>Random Forest</td>\n",
       "      <td>1251.21</td>\n",
       "      <td>0.65</td>\n",
       "      <td>0.95</td>\n",
       "      <td>0.65</td>\n",
       "    </tr>\n",
       "    <tr>\n",
       "      <th>3</th>\n",
       "      <td>GradientBoost</td>\n",
       "      <td>1163.66</td>\n",
       "      <td>0.68</td>\n",
       "      <td>0.86</td>\n",
       "      <td>0.68</td>\n",
       "    </tr>\n",
       "  </tbody>\n",
       "</table>\n",
       "</div>"
      ],
      "text/plain": [
       "             Modelos      MSE   R^2  Train score  Test score\n",
       "0   Regresión Lineal  1877.23  0.48         0.47        0.48\n",
       "1  Arbol de decision  1751.37  0.52         0.65        0.52\n",
       "2      Random Forest  1251.21  0.65         0.95        0.65\n",
       "3      GradientBoost  1163.66  0.68         0.86        0.68"
      ]
     },
     "execution_count": 126,
     "metadata": {},
     "output_type": "execute_result"
    }
   ],
   "source": [
    "modelos = ['Regresión Lineal','Árbol de decision', 'Random Forest', 'GradientBoost' ]\n",
    "MSE = [round(mse_lr, 2),round(mse_tree, 2),round(mse_rf, 2),round(mse_gb, 2)]\n",
    "r_cuadrado = [round(r2_lr, 2),round(r2_tree, 2),round(r2_rf, 2),round(r2_gb, 2)]\n",
    "train_score = [round(train_score_lr, 2),round(train_score_tree, 2),round(train_score_rf, 2),round(train_score_gb, 2)]\n",
    "test_score= [round(test_score_lr, 2),round(test_score_tree, 2),round(test_score_rf, 2),round(test_score_gb, 2)]\n",
    "\n",
    "comparativa = pd.DataFrame(\n",
    "    {'Modelos':modelos, \n",
    "    'MSE':MSE,\n",
    "    'R^2':r_cuadrado,\n",
    "    'Train score':train_score,\n",
    "    'Test score':test_score\n",
    "    })\n",
    "\n",
    "comparativa"
   ]
  },
  {
   "cell_type": "markdown",
   "id": "ce28df0d",
   "metadata": {},
   "source": [
    "En cuanto a las métricas obtenidas de los modelos, podemos observar que, el mejor modelo para predecir los precios de airbnb según las características de los apartamentos es Gradient Boost, puesto que, pese a tener un train score levemente más bajo que random forest, en el resto de las métricas obtiene mejores valores, teniendo también el error cuadrático medio más bajo. "
   ]
  }
 ],
 "metadata": {
  "kernelspec": {
   "display_name": "Python 3 (ipykernel)",
   "language": "python",
   "name": "python3"
  },
  "language_info": {
   "codemirror_mode": {
    "name": "ipython",
    "version": 3
   },
   "file_extension": ".py",
   "mimetype": "text/x-python",
   "name": "python",
   "nbconvert_exporter": "python",
   "pygments_lexer": "ipython3",
   "version": "3.9.13"
  }
 },
 "nbformat": 4,
 "nbformat_minor": 5
}
