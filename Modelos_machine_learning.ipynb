{
 "cells": [
  {
   "cell_type": "markdown",
   "id": "cd8bbd86",
   "metadata": {},
   "source": [
    "# Modelos Machine Learning"
   ]
  },
  {
   "cell_type": "markdown",
   "id": "b23d2a11",
   "metadata": {},
   "source": [
    "### Aun no están terminados los modelos "
   ]
  },
  {
   "cell_type": "markdown",
   "id": "0c8949cc",
   "metadata": {},
   "source": [
    "Una vez hecha la limpieza de datos vamos a pasar a crear los modelos para predecir los precios de airbnb según las caracteristicas de los alojamientos."
   ]
  },
  {
   "cell_type": "code",
   "execution_count": 180,
   "id": "4709cdf5",
   "metadata": {},
   "outputs": [],
   "source": [
    "#Carga de Librerías\n",
    "\n",
    "import warnings\n",
    "warnings.simplefilter(action='ignore', category=FutureWarning)\n",
    "\n",
    "import pandas as pd\n",
    "import numpy as np\n",
    "import seaborn as sns\n",
    "from matplotlib import pyplot as plt\n",
    "\n",
    "#Transformacion de los datos \n",
    "from sklearn.preprocessing import OrdinalEncoder\n",
    "from sklearn.preprocessing import OneHotEncoder\n",
    "import category_encoders as ce\n",
    "from sklearn.preprocessing import StandardScaler\n",
    "from sklearn.model_selection import train_test_split\n",
    "\n",
    "#otras\n",
    "from sklearn.model_selection import cross_val_score\n",
    "from sklearn.metrics import mean_absolute_error\n",
    "from sklearn.metrics import median_absolute_error\n",
    "from sklearn.metrics import mean_squared_error\n",
    "\n",
    "#Modelos básicos\n",
    "from sklearn.metrics import accuracy_score, precision_score, recall_score, confusion_matrix, f1_score, roc_curve, roc_auc_score\n",
    "from sklearn.linear_model import LinearRegression\n",
    "from sklearn.linear_model import Ridge, Lasso\n",
    "from sklearn.linear_model import RidgeCV\n",
    "from sklearn.linear_model import LassoCV\n",
    "from sklearn.model_selection import KFold\n",
    "\n",
    "#Arboles y ensamblaje \n",
    "from sklearn.ensemble import RandomForestRegressor\n",
    "\n",
    "\n",
    "pd.set_option('display.max_rows', 500) # para mostrar todas las filas\n",
    "pd.set_option('display.max_columns', None) # para mostrar todas las columnas"
   ]
  },
  {
   "cell_type": "code",
   "execution_count": 110,
   "id": "223860c2",
   "metadata": {},
   "outputs": [],
   "source": [
    "#Carga de datos limpios\n",
    "dfl = pd.read_csv('df_limpio.csv', delimiter=',').iloc[:, 1:]"
   ]
  },
  {
   "cell_type": "code",
   "execution_count": 111,
   "id": "9f6d5d5c",
   "metadata": {},
   "outputs": [
    {
     "data": {
      "text/html": [
       "<div>\n",
       "<style scoped>\n",
       "    .dataframe tbody tr th:only-of-type {\n",
       "        vertical-align: middle;\n",
       "    }\n",
       "\n",
       "    .dataframe tbody tr th {\n",
       "        vertical-align: top;\n",
       "    }\n",
       "\n",
       "    .dataframe thead th {\n",
       "        text-align: right;\n",
       "    }\n",
       "</style>\n",
       "<table border=\"1\" class=\"dataframe\">\n",
       "  <thead>\n",
       "    <tr style=\"text-align: right;\">\n",
       "      <th></th>\n",
       "      <th>host response time</th>\n",
       "      <th>host response rate</th>\n",
       "      <th>host verifications</th>\n",
       "      <th>latitude</th>\n",
       "      <th>longitude</th>\n",
       "      <th>property type</th>\n",
       "      <th>room type</th>\n",
       "      <th>bathrooms</th>\n",
       "      <th>bedrooms</th>\n",
       "      <th>beds</th>\n",
       "      <th>bed type</th>\n",
       "      <th>amenities</th>\n",
       "      <th>security deposit</th>\n",
       "      <th>cleaning fee</th>\n",
       "      <th>guests included</th>\n",
       "      <th>extra people</th>\n",
       "      <th>minimum nights</th>\n",
       "      <th>maximum nights</th>\n",
       "      <th>availability 365</th>\n",
       "      <th>number of reviews</th>\n",
       "      <th>cancellation policy</th>\n",
       "      <th>features</th>\n",
       "      <th>price</th>\n",
       "      <th>average review</th>\n",
       "      <th>final neighbourhood</th>\n",
       "      <th>years being host</th>\n",
       "    </tr>\n",
       "  </thead>\n",
       "  <tbody>\n",
       "    <tr>\n",
       "      <th>0</th>\n",
       "      <td>within an hour</td>\n",
       "      <td>84.0</td>\n",
       "      <td>3</td>\n",
       "      <td>40.406953</td>\n",
       "      <td>-3.670894</td>\n",
       "      <td>Apartment</td>\n",
       "      <td>Private room</td>\n",
       "      <td>2.0</td>\n",
       "      <td>1.0</td>\n",
       "      <td>1.0</td>\n",
       "      <td>Real Bed</td>\n",
       "      <td>7</td>\n",
       "      <td>183.0</td>\n",
       "      <td>30.0</td>\n",
       "      <td>1</td>\n",
       "      <td>5</td>\n",
       "      <td>1</td>\n",
       "      <td>1125</td>\n",
       "      <td>240</td>\n",
       "      <td>171</td>\n",
       "      <td>flexible</td>\n",
       "      <td>3</td>\n",
       "      <td>28.0</td>\n",
       "      <td>20.142857</td>\n",
       "      <td>Retiro</td>\n",
       "      <td>2</td>\n",
       "    </tr>\n",
       "    <tr>\n",
       "      <th>1</th>\n",
       "      <td>within a few hours</td>\n",
       "      <td>100.0</td>\n",
       "      <td>3</td>\n",
       "      <td>40.425904</td>\n",
       "      <td>-3.681647</td>\n",
       "      <td>Apartment</td>\n",
       "      <td>Entire home/apt</td>\n",
       "      <td>1.0</td>\n",
       "      <td>0.0</td>\n",
       "      <td>1.0</td>\n",
       "      <td>Real Bed</td>\n",
       "      <td>13</td>\n",
       "      <td>100.0</td>\n",
       "      <td>30.0</td>\n",
       "      <td>1</td>\n",
       "      <td>0</td>\n",
       "      <td>2</td>\n",
       "      <td>1125</td>\n",
       "      <td>15</td>\n",
       "      <td>52</td>\n",
       "      <td>moderate</td>\n",
       "      <td>3</td>\n",
       "      <td>58.0</td>\n",
       "      <td>22.285714</td>\n",
       "      <td>Salamanca</td>\n",
       "      <td>2</td>\n",
       "    </tr>\n",
       "    <tr>\n",
       "      <th>2</th>\n",
       "      <td>within an hour</td>\n",
       "      <td>100.0</td>\n",
       "      <td>5</td>\n",
       "      <td>40.428352</td>\n",
       "      <td>-3.687155</td>\n",
       "      <td>Apartment</td>\n",
       "      <td>Entire home/apt</td>\n",
       "      <td>1.0</td>\n",
       "      <td>0.0</td>\n",
       "      <td>2.0</td>\n",
       "      <td>Real Bed</td>\n",
       "      <td>17</td>\n",
       "      <td>150.0</td>\n",
       "      <td>30.0</td>\n",
       "      <td>2</td>\n",
       "      <td>15</td>\n",
       "      <td>2</td>\n",
       "      <td>1125</td>\n",
       "      <td>292</td>\n",
       "      <td>36</td>\n",
       "      <td>flexible</td>\n",
       "      <td>4</td>\n",
       "      <td>70.0</td>\n",
       "      <td>20.571429</td>\n",
       "      <td>Salamanca</td>\n",
       "      <td>1</td>\n",
       "    </tr>\n",
       "  </tbody>\n",
       "</table>\n",
       "</div>"
      ],
      "text/plain": [
       "   host response time  host response rate  host verifications   latitude  \\\n",
       "0      within an hour                84.0                   3  40.406953   \n",
       "1  within a few hours               100.0                   3  40.425904   \n",
       "2      within an hour               100.0                   5  40.428352   \n",
       "\n",
       "   longitude property type        room type  bathrooms  bedrooms  beds  \\\n",
       "0  -3.670894     Apartment     Private room        2.0       1.0   1.0   \n",
       "1  -3.681647     Apartment  Entire home/apt        1.0       0.0   1.0   \n",
       "2  -3.687155     Apartment  Entire home/apt        1.0       0.0   2.0   \n",
       "\n",
       "   bed type  amenities  security deposit  cleaning fee  guests included  \\\n",
       "0  Real Bed          7             183.0          30.0                1   \n",
       "1  Real Bed         13             100.0          30.0                1   \n",
       "2  Real Bed         17             150.0          30.0                2   \n",
       "\n",
       "   extra people  minimum nights  maximum nights  availability 365  \\\n",
       "0             5               1            1125               240   \n",
       "1             0               2            1125                15   \n",
       "2            15               2            1125               292   \n",
       "\n",
       "   number of reviews cancellation policy  features  price  average review  \\\n",
       "0                171            flexible         3   28.0       20.142857   \n",
       "1                 52            moderate         3   58.0       22.285714   \n",
       "2                 36            flexible         4   70.0       20.571429   \n",
       "\n",
       "  final neighbourhood  years being host  \n",
       "0              Retiro                 2  \n",
       "1           Salamanca                 2  \n",
       "2           Salamanca                 1  "
      ]
     },
     "execution_count": 111,
     "metadata": {},
     "output_type": "execute_result"
    }
   ],
   "source": [
    "dfl.head(3)"
   ]
  },
  {
   "cell_type": "markdown",
   "id": "a11ced2c",
   "metadata": {},
   "source": [
    "## Transformación de datos"
   ]
  },
  {
   "cell_type": "markdown",
   "id": "484bcd12",
   "metadata": {},
   "source": [
    "### Variables categóricas"
   ]
  },
  {
   "cell_type": "markdown",
   "id": "3c02fac0",
   "metadata": {},
   "source": [
    "#### Categóricas ordinales, es decir, siguien un orden específico"
   ]
  },
  {
   "cell_type": "markdown",
   "id": "d2f1706b",
   "metadata": {},
   "source": [
    "En esta categoría encontramos *'host response time'* y *'cancellation policy'*"
   ]
  },
  {
   "cell_type": "code",
   "execution_count": 112,
   "id": "22966ed4",
   "metadata": {},
   "outputs": [
    {
     "data": {
      "text/html": [
       "<div>\n",
       "<style scoped>\n",
       "    .dataframe tbody tr th:only-of-type {\n",
       "        vertical-align: middle;\n",
       "    }\n",
       "\n",
       "    .dataframe tbody tr th {\n",
       "        vertical-align: top;\n",
       "    }\n",
       "\n",
       "    .dataframe thead th {\n",
       "        text-align: right;\n",
       "    }\n",
       "</style>\n",
       "<table border=\"1\" class=\"dataframe\">\n",
       "  <thead>\n",
       "    <tr style=\"text-align: right;\">\n",
       "      <th></th>\n",
       "      <th>host response time</th>\n",
       "      <th>host response rate</th>\n",
       "      <th>host verifications</th>\n",
       "      <th>latitude</th>\n",
       "      <th>longitude</th>\n",
       "      <th>property type</th>\n",
       "      <th>room type</th>\n",
       "      <th>bathrooms</th>\n",
       "      <th>bedrooms</th>\n",
       "      <th>beds</th>\n",
       "      <th>bed type</th>\n",
       "      <th>amenities</th>\n",
       "      <th>security deposit</th>\n",
       "      <th>cleaning fee</th>\n",
       "      <th>guests included</th>\n",
       "      <th>extra people</th>\n",
       "      <th>minimum nights</th>\n",
       "      <th>maximum nights</th>\n",
       "      <th>availability 365</th>\n",
       "      <th>number of reviews</th>\n",
       "      <th>cancellation policy</th>\n",
       "      <th>features</th>\n",
       "      <th>price</th>\n",
       "      <th>average review</th>\n",
       "      <th>final neighbourhood</th>\n",
       "      <th>years being host</th>\n",
       "    </tr>\n",
       "  </thead>\n",
       "  <tbody>\n",
       "    <tr>\n",
       "      <th>0</th>\n",
       "      <td>0</td>\n",
       "      <td>84.0</td>\n",
       "      <td>3</td>\n",
       "      <td>40.406953</td>\n",
       "      <td>-3.670894</td>\n",
       "      <td>Apartment</td>\n",
       "      <td>Private room</td>\n",
       "      <td>2.0</td>\n",
       "      <td>1.0</td>\n",
       "      <td>1.0</td>\n",
       "      <td>Real Bed</td>\n",
       "      <td>7</td>\n",
       "      <td>183.0</td>\n",
       "      <td>30.0</td>\n",
       "      <td>1</td>\n",
       "      <td>5</td>\n",
       "      <td>1</td>\n",
       "      <td>1125</td>\n",
       "      <td>240</td>\n",
       "      <td>171</td>\n",
       "      <td>0</td>\n",
       "      <td>3</td>\n",
       "      <td>28.0</td>\n",
       "      <td>20.142857</td>\n",
       "      <td>Retiro</td>\n",
       "      <td>2</td>\n",
       "    </tr>\n",
       "    <tr>\n",
       "      <th>1</th>\n",
       "      <td>1</td>\n",
       "      <td>100.0</td>\n",
       "      <td>3</td>\n",
       "      <td>40.425904</td>\n",
       "      <td>-3.681647</td>\n",
       "      <td>Apartment</td>\n",
       "      <td>Entire home/apt</td>\n",
       "      <td>1.0</td>\n",
       "      <td>0.0</td>\n",
       "      <td>1.0</td>\n",
       "      <td>Real Bed</td>\n",
       "      <td>13</td>\n",
       "      <td>100.0</td>\n",
       "      <td>30.0</td>\n",
       "      <td>1</td>\n",
       "      <td>0</td>\n",
       "      <td>2</td>\n",
       "      <td>1125</td>\n",
       "      <td>15</td>\n",
       "      <td>52</td>\n",
       "      <td>1</td>\n",
       "      <td>3</td>\n",
       "      <td>58.0</td>\n",
       "      <td>22.285714</td>\n",
       "      <td>Salamanca</td>\n",
       "      <td>2</td>\n",
       "    </tr>\n",
       "  </tbody>\n",
       "</table>\n",
       "</div>"
      ],
      "text/plain": [
       "   host response time  host response rate  host verifications   latitude  \\\n",
       "0                   0                84.0                   3  40.406953   \n",
       "1                   1               100.0                   3  40.425904   \n",
       "\n",
       "   longitude property type        room type  bathrooms  bedrooms  beds  \\\n",
       "0  -3.670894     Apartment     Private room        2.0       1.0   1.0   \n",
       "1  -3.681647     Apartment  Entire home/apt        1.0       0.0   1.0   \n",
       "\n",
       "   bed type  amenities  security deposit  cleaning fee  guests included  \\\n",
       "0  Real Bed          7             183.0          30.0                1   \n",
       "1  Real Bed         13             100.0          30.0                1   \n",
       "\n",
       "   extra people  minimum nights  maximum nights  availability 365  \\\n",
       "0             5               1            1125               240   \n",
       "1             0               2            1125                15   \n",
       "\n",
       "   number of reviews  cancellation policy  features  price  average review  \\\n",
       "0                171                    0         3   28.0       20.142857   \n",
       "1                 52                    1         3   58.0       22.285714   \n",
       "\n",
       "  final neighbourhood  years being host  \n",
       "0              Retiro                 2  \n",
       "1           Salamanca                 2  "
      ]
     },
     "execution_count": 112,
     "metadata": {},
     "output_type": "execute_result"
    }
   ],
   "source": [
    "# Orden de las categorías\n",
    "host_response_time_order = ['within an hour', 'within a few hours', 'within a day', 'a few days or more']\n",
    "cancellation_policy_order = ['flexible', 'moderate', 'strict']\n",
    "encoder = OrdinalEncoder(categories=[host_response_time_order, cancellation_policy_order])\n",
    "dfl_catord = dfl.copy()\n",
    "dfl_catord['host response time'] = dfl['host response time'].map({category: i for i, category in enumerate(host_response_time_order)})\n",
    "dfl_catord['cancellation policy'] = dfl['cancellation policy'].map({category: i for i, category in enumerate(cancellation_policy_order)})\n",
    "dfl_catord.head(2)"
   ]
  },
  {
   "cell_type": "markdown",
   "id": "18b3f7dd",
   "metadata": {},
   "source": [
    "#### Categóricas que no siguien un orden específico"
   ]
  },
  {
   "cell_type": "code",
   "execution_count": 113,
   "id": "fa79a377",
   "metadata": {},
   "outputs": [],
   "source": [
    "categoricas =['property type','room type', 'bed type', 'final neighbourhood'   \n",
    "]\n",
    "encoder = OneHotEncoder()\n",
    "dfl_cat = encoder.fit_transform(dfl_catord[categoricas])\n",
    "dfl_cat = pd.DataFrame(dfl_cat.toarray(), columns=encoder.get_feature_names_out(categoricas))\n",
    "data_encoded = pd.concat([dfl_catord.drop(categoricas, axis=1), dfl_cat], axis=1)"
   ]
  },
  {
   "cell_type": "code",
   "execution_count": 114,
   "id": "2c3494ad",
   "metadata": {},
   "outputs": [
    {
     "data": {
      "text/html": [
       "<div>\n",
       "<style scoped>\n",
       "    .dataframe tbody tr th:only-of-type {\n",
       "        vertical-align: middle;\n",
       "    }\n",
       "\n",
       "    .dataframe tbody tr th {\n",
       "        vertical-align: top;\n",
       "    }\n",
       "\n",
       "    .dataframe thead th {\n",
       "        text-align: right;\n",
       "    }\n",
       "</style>\n",
       "<table border=\"1\" class=\"dataframe\">\n",
       "  <thead>\n",
       "    <tr style=\"text-align: right;\">\n",
       "      <th></th>\n",
       "      <th>host response time</th>\n",
       "      <th>host response rate</th>\n",
       "      <th>host verifications</th>\n",
       "      <th>latitude</th>\n",
       "      <th>longitude</th>\n",
       "      <th>bathrooms</th>\n",
       "      <th>bedrooms</th>\n",
       "      <th>beds</th>\n",
       "      <th>amenities</th>\n",
       "      <th>security deposit</th>\n",
       "      <th>cleaning fee</th>\n",
       "      <th>guests included</th>\n",
       "      <th>extra people</th>\n",
       "      <th>minimum nights</th>\n",
       "      <th>maximum nights</th>\n",
       "      <th>availability 365</th>\n",
       "      <th>number of reviews</th>\n",
       "      <th>cancellation policy</th>\n",
       "      <th>features</th>\n",
       "      <th>price</th>\n",
       "      <th>average review</th>\n",
       "      <th>years being host</th>\n",
       "      <th>property type_Apartment</th>\n",
       "      <th>property type_Bed &amp; Breakfast</th>\n",
       "      <th>property type_Condominium</th>\n",
       "      <th>property type_House</th>\n",
       "      <th>property type_Loft</th>\n",
       "      <th>property type_Other</th>\n",
       "      <th>room type_Entire home/apt</th>\n",
       "      <th>room type_Private room</th>\n",
       "      <th>room type_Shared room</th>\n",
       "      <th>bed type_Pull-out Sofa</th>\n",
       "      <th>bed type_Real Bed</th>\n",
       "      <th>final neighbourhood_Arganzuela</th>\n",
       "      <th>final neighbourhood_Carabanchel</th>\n",
       "      <th>final neighbourhood_Centro</th>\n",
       "      <th>final neighbourhood_Chamartín</th>\n",
       "      <th>final neighbourhood_Chamberí</th>\n",
       "      <th>final neighbourhood_Ciudad Lineal</th>\n",
       "      <th>final neighbourhood_Latina</th>\n",
       "      <th>final neighbourhood_Moncloa - Aravaca</th>\n",
       "      <th>final neighbourhood_Puente de Vallecas</th>\n",
       "      <th>final neighbourhood_Retiro</th>\n",
       "      <th>final neighbourhood_Salamanca</th>\n",
       "      <th>final neighbourhood_Tetuán</th>\n",
       "    </tr>\n",
       "  </thead>\n",
       "  <tbody>\n",
       "    <tr>\n",
       "      <th>0</th>\n",
       "      <td>0</td>\n",
       "      <td>84.0</td>\n",
       "      <td>3</td>\n",
       "      <td>40.406953</td>\n",
       "      <td>-3.670894</td>\n",
       "      <td>2.0</td>\n",
       "      <td>1.0</td>\n",
       "      <td>1.0</td>\n",
       "      <td>7</td>\n",
       "      <td>183.0</td>\n",
       "      <td>30.0</td>\n",
       "      <td>1</td>\n",
       "      <td>5</td>\n",
       "      <td>1</td>\n",
       "      <td>1125</td>\n",
       "      <td>240</td>\n",
       "      <td>171</td>\n",
       "      <td>0</td>\n",
       "      <td>3</td>\n",
       "      <td>28.0</td>\n",
       "      <td>20.142857</td>\n",
       "      <td>2</td>\n",
       "      <td>1.0</td>\n",
       "      <td>0.0</td>\n",
       "      <td>0.0</td>\n",
       "      <td>0.0</td>\n",
       "      <td>0.0</td>\n",
       "      <td>0.0</td>\n",
       "      <td>0.0</td>\n",
       "      <td>1.0</td>\n",
       "      <td>0.0</td>\n",
       "      <td>0.0</td>\n",
       "      <td>1.0</td>\n",
       "      <td>0.0</td>\n",
       "      <td>0.0</td>\n",
       "      <td>0.0</td>\n",
       "      <td>0.0</td>\n",
       "      <td>0.0</td>\n",
       "      <td>0.0</td>\n",
       "      <td>0.0</td>\n",
       "      <td>0.0</td>\n",
       "      <td>0.0</td>\n",
       "      <td>1.0</td>\n",
       "      <td>0.0</td>\n",
       "      <td>0.0</td>\n",
       "    </tr>\n",
       "    <tr>\n",
       "      <th>1</th>\n",
       "      <td>1</td>\n",
       "      <td>100.0</td>\n",
       "      <td>3</td>\n",
       "      <td>40.425904</td>\n",
       "      <td>-3.681647</td>\n",
       "      <td>1.0</td>\n",
       "      <td>0.0</td>\n",
       "      <td>1.0</td>\n",
       "      <td>13</td>\n",
       "      <td>100.0</td>\n",
       "      <td>30.0</td>\n",
       "      <td>1</td>\n",
       "      <td>0</td>\n",
       "      <td>2</td>\n",
       "      <td>1125</td>\n",
       "      <td>15</td>\n",
       "      <td>52</td>\n",
       "      <td>1</td>\n",
       "      <td>3</td>\n",
       "      <td>58.0</td>\n",
       "      <td>22.285714</td>\n",
       "      <td>2</td>\n",
       "      <td>1.0</td>\n",
       "      <td>0.0</td>\n",
       "      <td>0.0</td>\n",
       "      <td>0.0</td>\n",
       "      <td>0.0</td>\n",
       "      <td>0.0</td>\n",
       "      <td>1.0</td>\n",
       "      <td>0.0</td>\n",
       "      <td>0.0</td>\n",
       "      <td>0.0</td>\n",
       "      <td>1.0</td>\n",
       "      <td>0.0</td>\n",
       "      <td>0.0</td>\n",
       "      <td>0.0</td>\n",
       "      <td>0.0</td>\n",
       "      <td>0.0</td>\n",
       "      <td>0.0</td>\n",
       "      <td>0.0</td>\n",
       "      <td>0.0</td>\n",
       "      <td>0.0</td>\n",
       "      <td>0.0</td>\n",
       "      <td>1.0</td>\n",
       "      <td>0.0</td>\n",
       "    </tr>\n",
       "  </tbody>\n",
       "</table>\n",
       "</div>"
      ],
      "text/plain": [
       "   host response time  host response rate  host verifications   latitude  \\\n",
       "0                   0                84.0                   3  40.406953   \n",
       "1                   1               100.0                   3  40.425904   \n",
       "\n",
       "   longitude  bathrooms  bedrooms  beds  amenities  security deposit  \\\n",
       "0  -3.670894        2.0       1.0   1.0          7             183.0   \n",
       "1  -3.681647        1.0       0.0   1.0         13             100.0   \n",
       "\n",
       "   cleaning fee  guests included  extra people  minimum nights  \\\n",
       "0          30.0                1             5               1   \n",
       "1          30.0                1             0               2   \n",
       "\n",
       "   maximum nights  availability 365  number of reviews  cancellation policy  \\\n",
       "0            1125               240                171                    0   \n",
       "1            1125                15                 52                    1   \n",
       "\n",
       "   features  price  average review  years being host  property type_Apartment  \\\n",
       "0         3   28.0       20.142857                 2                      1.0   \n",
       "1         3   58.0       22.285714                 2                      1.0   \n",
       "\n",
       "   property type_Bed & Breakfast  property type_Condominium  \\\n",
       "0                            0.0                        0.0   \n",
       "1                            0.0                        0.0   \n",
       "\n",
       "   property type_House  property type_Loft  property type_Other  \\\n",
       "0                  0.0                 0.0                  0.0   \n",
       "1                  0.0                 0.0                  0.0   \n",
       "\n",
       "   room type_Entire home/apt  room type_Private room  room type_Shared room  \\\n",
       "0                        0.0                     1.0                    0.0   \n",
       "1                        1.0                     0.0                    0.0   \n",
       "\n",
       "   bed type_Pull-out Sofa  bed type_Real Bed  final neighbourhood_Arganzuela  \\\n",
       "0                     0.0                1.0                             0.0   \n",
       "1                     0.0                1.0                             0.0   \n",
       "\n",
       "   final neighbourhood_Carabanchel  final neighbourhood_Centro  \\\n",
       "0                              0.0                         0.0   \n",
       "1                              0.0                         0.0   \n",
       "\n",
       "   final neighbourhood_Chamartín  final neighbourhood_Chamberí  \\\n",
       "0                            0.0                           0.0   \n",
       "1                            0.0                           0.0   \n",
       "\n",
       "   final neighbourhood_Ciudad Lineal  final neighbourhood_Latina  \\\n",
       "0                                0.0                         0.0   \n",
       "1                                0.0                         0.0   \n",
       "\n",
       "   final neighbourhood_Moncloa - Aravaca  \\\n",
       "0                                    0.0   \n",
       "1                                    0.0   \n",
       "\n",
       "   final neighbourhood_Puente de Vallecas  final neighbourhood_Retiro  \\\n",
       "0                                     0.0                         1.0   \n",
       "1                                     0.0                         0.0   \n",
       "\n",
       "   final neighbourhood_Salamanca  final neighbourhood_Tetuán  \n",
       "0                            0.0                         0.0  \n",
       "1                            1.0                         0.0  "
      ]
     },
     "execution_count": 114,
     "metadata": {},
     "output_type": "execute_result"
    }
   ],
   "source": [
    "data_encoded.head(2)"
   ]
  },
  {
   "cell_type": "markdown",
   "id": "01b3f0cd",
   "metadata": {},
   "source": [
    "## Separación rain y test "
   ]
  },
  {
   "cell_type": "code",
   "execution_count": 115,
   "id": "1fb1a48c",
   "metadata": {},
   "outputs": [],
   "source": [
    "X_train, X_test, y_train, y_test = train_test_split(data_encoded, data_encoded['price'], test_size=0.33, random_state=42)"
   ]
  },
  {
   "cell_type": "markdown",
   "id": "4177a1e1",
   "metadata": {},
   "source": [
    "## Modelos básicos"
   ]
  },
  {
   "cell_type": "markdown",
   "id": "65ce18e6",
   "metadata": {},
   "source": [
    "Para estos modelos necesitamos que las variables estén escaladas. "
   ]
  },
  {
   "cell_type": "markdown",
   "id": "84811562",
   "metadata": {},
   "source": [
    "#### Escalado de variables"
   ]
  },
  {
   "cell_type": "code",
   "execution_count": 116,
   "id": "d5cdea82",
   "metadata": {},
   "outputs": [],
   "source": [
    "scaler = StandardScaler()\n",
    "model_scaled = scaler.fit(X_train)\n",
    "X_train_scaled = pd.DataFrame(scaler.transform(X_train), columns=X_train.columns, index=X_train.index)\n",
    "X_test_scaled = pd.DataFrame(scaler.transform(X_test), columns=X_test.columns, index=X_test.index)"
   ]
  },
  {
   "cell_type": "markdown",
   "id": "9e294cea",
   "metadata": {},
   "source": [
    "#### Modelos"
   ]
  },
  {
   "cell_type": "markdown",
   "id": "c5b29d43",
   "metadata": {},
   "source": [
    "#### 1. Regresión linear"
   ]
  },
  {
   "cell_type": "markdown",
   "id": "f11145dc",
   "metadata": {},
   "source": [
    "#### WARNING: He intentado hacer varias formas de hacer los modelos, pero me parece raro que me de 1 el score"
   ]
  },
  {
   "cell_type": "code",
   "execution_count": 177,
   "id": "336d9234",
   "metadata": {},
   "outputs": [
    {
     "name": "stderr",
     "output_type": "stream",
     "text": [
      "C:\\Users\\mllanos\\Documents\\Downloads\\lib\\site-packages\\sklearn\\base.py:450: UserWarning: X does not have valid feature names, but LinearRegression was fitted with feature names\n",
      "  warnings.warn(\n",
      "C:\\Users\\mllanos\\Documents\\Downloads\\lib\\site-packages\\sklearn\\base.py:450: UserWarning: X does not have valid feature names, but LinearRegression was fitted with feature names\n",
      "  warnings.warn(\n"
     ]
    },
    {
     "ename": "NameError",
     "evalue": "name 'data_test' is not defined",
     "output_type": "error",
     "traceback": [
      "\u001b[1;31m---------------------------------------------------------------------------\u001b[0m",
      "\u001b[1;31mNameError\u001b[0m                                 Traceback (most recent call last)",
      "\u001b[1;32m~\\AppData\\Local\\Temp\\1\\ipykernel_2912\\1256995987.py\u001b[0m in \u001b[0;36m<module>\u001b[1;34m\u001b[0m\n\u001b[0;32m      5\u001b[0m \u001b[0mpredictions\u001b[0m \u001b[1;33m=\u001b[0m \u001b[0mlr\u001b[0m\u001b[1;33m.\u001b[0m\u001b[0mpredict\u001b[0m\u001b[1;33m(\u001b[0m\u001b[0mX_test_scaled\u001b[0m\u001b[1;33m)\u001b[0m\u001b[1;33m\u001b[0m\u001b[1;33m\u001b[0m\u001b[0m\n\u001b[0;32m      6\u001b[0m \u001b[0mlr\u001b[0m\u001b[1;33m.\u001b[0m\u001b[0mscore\u001b[0m\u001b[1;33m(\u001b[0m\u001b[0mX_test_scaled\u001b[0m\u001b[1;33m,\u001b[0m\u001b[0my_test\u001b[0m\u001b[1;33m)\u001b[0m\u001b[1;33m\u001b[0m\u001b[1;33m\u001b[0m\u001b[0m\n\u001b[1;32m----> 7\u001b[1;33m results_df = ( data_test\n\u001b[0m\u001b[0;32m      8\u001b[0m     \u001b[1;33m.\u001b[0m\u001b[0mloc\u001b[0m\u001b[1;33m[\u001b[0m\u001b[1;33m:\u001b[0m\u001b[1;33m,\u001b[0m\u001b[1;33m[\u001b[0m\u001b[1;34m'price'\u001b[0m\u001b[1;33m]\u001b[0m\u001b[1;33m]\u001b[0m\u001b[1;33m\u001b[0m\u001b[1;33m\u001b[0m\u001b[0m\n\u001b[0;32m      9\u001b[0m     \u001b[1;33m.\u001b[0m\u001b[0massign\u001b[0m\u001b[1;33m(\u001b[0m\u001b[0mPricePredicted\u001b[0m\u001b[1;33m=\u001b[0m\u001b[0mpredictions\u001b[0m\u001b[1;33m)\u001b[0m\u001b[1;33m\u001b[0m\u001b[1;33m\u001b[0m\u001b[0m\n",
      "\u001b[1;31mNameError\u001b[0m: name 'data_test' is not defined"
     ]
    }
   ],
   "source": [
    "lr = LinearRegression(normalize=False)\n",
    "lr.fit(X_train_scaled,y_train)\n",
    "lr.score(X_train_scaled,y_train)\n",
    "X_test_scaled = scaler.transform(X_test)\n",
    "predictions = lr.predict(X_test_scaled)\n",
    "lr.score(X_test_scaled,y_test)\n",
    "results_df = ( data_test\n",
    "    .loc[:,['price']]\n",
    "    .assign(PricePredicted=predictions)\n",
    "    .assign(SquaredError=lambda x:(x.SalePrice - x.PricePredicted)**2)\n",
    ")"
   ]
  },
  {
   "cell_type": "code",
   "execution_count": 120,
   "id": "5714bb85",
   "metadata": {},
   "outputs": [
    {
     "name": "stdout",
     "output_type": "stream",
     "text": [
      "The train score for lr model is 1.0\n",
      "The test score for lr model is 1.0\n"
     ]
    }
   ],
   "source": [
    "lr = LinearRegression()\n",
    "\n",
    "#Fit model\n",
    "lr.fit(X_train_scaled, y_train)\n",
    "\n",
    "#actual\n",
    "actual = y_test\n",
    "\n",
    "train_score_lr = lr.score(X_train_scaled, y_train)\n",
    "test_score_lr = lr.score(X_test_scaled, y_test)\n",
    "\n",
    "print(\"The train score for lr model is {}\".format(train_score_lr))\n",
    "print(\"The test score for lr model is {}\".format(test_score_lr))"
   ]
  },
  {
   "cell_type": "code",
   "execution_count": 131,
   "id": "9bcd80d4",
   "metadata": {},
   "outputs": [
    {
     "name": "stdout",
     "output_type": "stream",
     "text": [
      "The R^2 score on our testing data is: 1.000\n",
      "The median absolute error on our testing data is: 0.000\n"
     ]
    }
   ],
   "source": [
    "# Create Linear Regression model\n",
    "lr = LinearRegression()\n",
    "\n",
    "# Calculate cross-validated R^2 scores and MAE\n",
    "cv_r2_scores = cross_val_score(lr, X_train_scaled, y_train, cv=5, scoring='r2')\n",
    "cv_mae_scores = -cross_val_score(lr, X_train_scaled, y_train, cv=5, scoring='neg_median_absolute_error')\n",
    "\n",
    "# Compute mean scores\n",
    "lr_testing_set_score = np.mean(cv_r2_scores)\n",
    "lr_median_abs_error = np.mean(cv_mae_scores)\n",
    "\n",
    "print(\"The R^2 score on our testing data is: {:.3f}\".format(lr_testing_set_score))\n",
    "print(\"The median absolute error on our testing data is: {:.3f}\".format(lr_median_abs_error))"
   ]
  },
  {
   "cell_type": "code",
   "execution_count": null,
   "id": "a350a29f",
   "metadata": {},
   "outputs": [],
   "source": [
    "cv = KFold(n_splits = 5)\n",
    "linreg = LinReg()\n",
    "\n",
    "# Store r2 and median absolute error\n",
    "MAE =[]\n",
    "R2 = []\n",
    "\n",
    "for train, test in cv.split(X_encoded):\n",
    "    # Fit linreg\n",
    "    linreg.fit(X_encoded.iloc[train], y.iloc[train])\n",
    "    \n",
    "    # Predict and score\n",
    "    Y_predict = linreg.predict(X_encoded.iloc[test])\n",
    "    R2.append(linreg.score(X_encoded.iloc[test], y.iloc[test]))\n",
    "    MAE.append(median_absolute_error(y.iloc[test], Y_predict))\n",
    "\n",
    "# Output and store scores after CV\n",
    "lin_testing_set_score = np.mean(R2)\n",
    "lin_median_abs_error = np.mean(MAE)\n",
    "print 'The R^2 score on our testing data is: ' + str(round(lin_testing_set_score, 3))\n",
    "print 'The median absolute error on our testing data is: ' + str(round(lin_median_abs_error, 3))"
   ]
  },
  {
   "cell_type": "markdown",
   "id": "708a1582",
   "metadata": {},
   "source": [
    "#### 2. Ridge Regression"
   ]
  },
  {
   "cell_type": "code",
   "execution_count": 160,
   "id": "5cfbe876",
   "metadata": {},
   "outputs": [
    {
     "name": "stdout",
     "output_type": "stream",
     "text": [
      "The R^2 score on our testing data is: -0.461\n",
      "The median absolute error on our testing data is: 68.482\n"
     ]
    }
   ],
   "source": [
    "ridge = Ridge(alpha=10, fit_intercept=False)\n",
    "\n",
    "# Calculate cross-validated R^2 scores and MAE\n",
    "cv_r2_scores = cross_val_score(ridge, X_train_scaled, y_train, cv=5, scoring='r2')\n",
    "cv_mae_scores = -cross_val_score(ridge, X_train_scaled, y_train, cv=5, scoring='neg_median_absolute_error')\n",
    "\n",
    "# Compute mean scores\n",
    "ridge_testing_set_score = np.mean(cv_r2_scores)\n",
    "ridge_median_abs_error = np.mean(cv_mae_scores)\n",
    "\n",
    "print(\"The R^2 score on our testing data is: {:.3f}\".format(ridge_testing_set_score))\n",
    "print(\"The median absolute error on our testing data is: {:.3f}\".format(ridge_median_abs_error))"
   ]
  },
  {
   "cell_type": "code",
   "execution_count": 176,
   "id": "17860623",
   "metadata": {},
   "outputs": [
    {
     "name": "stderr",
     "output_type": "stream",
     "text": [
      "C:\\Users\\mllanos\\Documents\\Downloads\\lib\\site-packages\\sklearn\\linear_model\\_ridge.py:157: LinAlgWarning: Ill-conditioned matrix (rcond=5.72476e-17): result may not be accurate.\n",
      "  return linalg.solve(A, Xy, sym_pos=True, overwrite_a=True).T\n",
      "C:\\Users\\mllanos\\Documents\\Downloads\\lib\\site-packages\\sklearn\\linear_model\\_ridge.py:157: LinAlgWarning: Ill-conditioned matrix (rcond=5.67285e-17): result may not be accurate.\n",
      "  return linalg.solve(A, Xy, sym_pos=True, overwrite_a=True).T\n",
      "C:\\Users\\mllanos\\Documents\\Downloads\\lib\\site-packages\\sklearn\\linear_model\\_ridge.py:157: LinAlgWarning: Ill-conditioned matrix (rcond=5.74599e-17): result may not be accurate.\n",
      "  return linalg.solve(A, Xy, sym_pos=True, overwrite_a=True).T\n",
      "C:\\Users\\mllanos\\Documents\\Downloads\\lib\\site-packages\\sklearn\\linear_model\\_ridge.py:157: LinAlgWarning: Ill-conditioned matrix (rcond=5.73738e-17): result may not be accurate.\n",
      "  return linalg.solve(A, Xy, sym_pos=True, overwrite_a=True).T\n",
      "C:\\Users\\mllanos\\Documents\\Downloads\\lib\\site-packages\\sklearn\\linear_model\\_ridge.py:157: LinAlgWarning: Ill-conditioned matrix (rcond=5.53082e-17): result may not be accurate.\n",
      "  return linalg.solve(A, Xy, sym_pos=True, overwrite_a=True).T\n",
      "C:\\Users\\mllanos\\Documents\\Downloads\\lib\\site-packages\\sklearn\\linear_model\\_ridge.py:157: LinAlgWarning: Ill-conditioned matrix (rcond=5.73274e-17): result may not be accurate.\n",
      "  return linalg.solve(A, Xy, sym_pos=True, overwrite_a=True).T\n",
      "C:\\Users\\mllanos\\Documents\\Downloads\\lib\\site-packages\\sklearn\\linear_model\\_ridge.py:157: LinAlgWarning: Ill-conditioned matrix (rcond=5.6696e-17): result may not be accurate.\n",
      "  return linalg.solve(A, Xy, sym_pos=True, overwrite_a=True).T\n",
      "C:\\Users\\mllanos\\Documents\\Downloads\\lib\\site-packages\\sklearn\\linear_model\\_ridge.py:157: LinAlgWarning: Ill-conditioned matrix (rcond=5.75021e-17): result may not be accurate.\n",
      "  return linalg.solve(A, Xy, sym_pos=True, overwrite_a=True).T\n",
      "C:\\Users\\mllanos\\Documents\\Downloads\\lib\\site-packages\\sklearn\\linear_model\\_ridge.py:157: LinAlgWarning: Ill-conditioned matrix (rcond=5.74306e-17): result may not be accurate.\n",
      "  return linalg.solve(A, Xy, sym_pos=True, overwrite_a=True).T\n",
      "C:\\Users\\mllanos\\Documents\\Downloads\\lib\\site-packages\\sklearn\\linear_model\\_ridge.py:157: LinAlgWarning: Ill-conditioned matrix (rcond=5.53618e-17): result may not be accurate.\n",
      "  return linalg.solve(A, Xy, sym_pos=True, overwrite_a=True).T\n",
      "C:\\Users\\mllanos\\Documents\\Downloads\\lib\\site-packages\\sklearn\\linear_model\\_ridge.py:157: LinAlgWarning: Ill-conditioned matrix (rcond=5.74285e-17): result may not be accurate.\n",
      "  return linalg.solve(A, Xy, sym_pos=True, overwrite_a=True).T\n",
      "C:\\Users\\mllanos\\Documents\\Downloads\\lib\\site-packages\\sklearn\\linear_model\\_ridge.py:157: LinAlgWarning: Ill-conditioned matrix (rcond=5.69577e-17): result may not be accurate.\n",
      "  return linalg.solve(A, Xy, sym_pos=True, overwrite_a=True).T\n",
      "C:\\Users\\mllanos\\Documents\\Downloads\\lib\\site-packages\\sklearn\\linear_model\\_ridge.py:157: LinAlgWarning: Ill-conditioned matrix (rcond=5.73452e-17): result may not be accurate.\n",
      "  return linalg.solve(A, Xy, sym_pos=True, overwrite_a=True).T\n",
      "C:\\Users\\mllanos\\Documents\\Downloads\\lib\\site-packages\\sklearn\\linear_model\\_ridge.py:157: LinAlgWarning: Ill-conditioned matrix (rcond=5.7532e-17): result may not be accurate.\n",
      "  return linalg.solve(A, Xy, sym_pos=True, overwrite_a=True).T\n",
      "C:\\Users\\mllanos\\Documents\\Downloads\\lib\\site-packages\\sklearn\\linear_model\\_ridge.py:157: LinAlgWarning: Ill-conditioned matrix (rcond=5.54139e-17): result may not be accurate.\n",
      "  return linalg.solve(A, Xy, sym_pos=True, overwrite_a=True).T\n",
      "C:\\Users\\mllanos\\Documents\\Downloads\\lib\\site-packages\\sklearn\\linear_model\\_ridge.py:157: LinAlgWarning: Ill-conditioned matrix (rcond=5.73662e-17): result may not be accurate.\n",
      "  return linalg.solve(A, Xy, sym_pos=True, overwrite_a=True).T\n",
      "C:\\Users\\mllanos\\Documents\\Downloads\\lib\\site-packages\\sklearn\\linear_model\\_ridge.py:157: LinAlgWarning: Ill-conditioned matrix (rcond=5.68897e-17): result may not be accurate.\n",
      "  return linalg.solve(A, Xy, sym_pos=True, overwrite_a=True).T\n",
      "C:\\Users\\mllanos\\Documents\\Downloads\\lib\\site-packages\\sklearn\\linear_model\\_ridge.py:157: LinAlgWarning: Ill-conditioned matrix (rcond=5.72989e-17): result may not be accurate.\n",
      "  return linalg.solve(A, Xy, sym_pos=True, overwrite_a=True).T\n",
      "C:\\Users\\mllanos\\Documents\\Downloads\\lib\\site-packages\\sklearn\\linear_model\\_ridge.py:157: LinAlgWarning: Ill-conditioned matrix (rcond=5.75158e-17): result may not be accurate.\n",
      "  return linalg.solve(A, Xy, sym_pos=True, overwrite_a=True).T\n"
     ]
    },
    {
     "name": "stdout",
     "output_type": "stream",
     "text": [
      "The R^2 score on our testing data is: 1.0\n",
      "The median absolute error on our testing data is: 0.0\n"
     ]
    },
    {
     "name": "stderr",
     "output_type": "stream",
     "text": [
      "C:\\Users\\mllanos\\Documents\\Downloads\\lib\\site-packages\\sklearn\\linear_model\\_ridge.py:157: LinAlgWarning: Ill-conditioned matrix (rcond=5.53679e-17): result may not be accurate.\n",
      "  return linalg.solve(A, Xy, sym_pos=True, overwrite_a=True).T\n"
     ]
    }
   ],
   "source": [
    "# Tuning paramater values for Ridge\n",
    "lambdas = 10.**np.array([-4, -3, -2, -1, 0, 1, 2, 3, 4])\n",
    "\n",
    "# Perform Ridge regression using expanded set of predictors, \n",
    "# choose best regularization parameter lambda using 5-fold x-validation\n",
    "cv = KFold(n_splits = 5)\n",
    "ridge = RidgeCV(alphas = lambdas, fit_intercept = False, normalize = True, cv = 5)\n",
    "\n",
    "# Store r2 and median absolute error\n",
    "MAE =[]\n",
    "R2 = []\n",
    "\n",
    "# Find best score by cross validating over 5 folds\n",
    "for train, test in cv.split(data_encoded):\n",
    "    # Fit linreg\n",
    "    ridge.fit(data_encoded.iloc[train], y.iloc[train])\n",
    "    \n",
    "    # Predict and score\n",
    "    Y_predict = ridge.predict(data_encoded.iloc[test])\n",
    "    R2.append(ridge.score(data_encoded.iloc[test], y.iloc[test]))\n",
    "    MAE.append(median_absolute_error(y.iloc[test], Y_predict))\n",
    "    \n",
    "# Output and store scores after CV\n",
    "ridge_testing_set_score = np.mean(R2)\n",
    "ridge_median_abs_error = np.mean(MAE)\n",
    "print ('The R^2 score on our testing data is: ' + str(round(ridge_testing_set_score,3)))\n",
    "print ('The median absolute error on our testing data is: ' + str(round(ridge_median_abs_error,3)))"
   ]
  },
  {
   "cell_type": "code",
   "execution_count": 106,
   "id": "f6a26ecb",
   "metadata": {},
   "outputs": [
    {
     "name": "stdout",
     "output_type": "stream",
     "text": [
      "The train score for ridge model is 0.9999971945637722\n",
      "The test score for ridge model is 0.9999972431313143\n"
     ]
    }
   ],
   "source": [
    "ridgeReg = Ridge(alpha=10)\n",
    "\n",
    "ridgeReg.fit(X_train_scaled,y_train)\n",
    "\n",
    "#train and test scorefor ridge regression\n",
    "train_score_ridge = ridgeReg.score(X_train_scaled, y_train)\n",
    "test_score_ridge = ridgeReg.score(X_test_scaled, y_test)\n",
    "\n",
    "print(\"The train score for ridge model is {}\".format(train_score_ridge))\n",
    "print(\"The test score for ridge model is {}\".format(test_score_ridge))"
   ]
  },
  {
   "cell_type": "markdown",
   "id": "285fa08a",
   "metadata": {},
   "source": [
    "#### 3. Lasso "
   ]
  },
  {
   "cell_type": "code",
   "execution_count": 166,
   "id": "d41f45c0",
   "metadata": {},
   "outputs": [
    {
     "name": "stdout",
     "output_type": "stream",
     "text": [
      "The R^2 score on our testing data is: -0.465\n",
      "The median absolute error on our testing data is: 68.475\n"
     ]
    }
   ],
   "source": [
    "lasso = Lasso(alpha=0.01, fit_intercept=False)\n",
    "\n",
    "# Calculate cross-validated R^2 scores and MAE\n",
    "cv_r2_scores = cross_val_score(lasso, X_train_scaled, y_train, cv=5, scoring='r2')\n",
    "cv_mae_scores = -cross_val_score(lasso, X_train_scaled, y_train, cv=5, scoring='neg_median_absolute_error')\n",
    "\n",
    "# Compute mean scores\n",
    "lasso_testing_set_score = np.mean(cv_r2_scores)\n",
    "lasso_median_abs_error = np.mean(cv_mae_scores)\n",
    "\n",
    "print(\"The R^2 score on our testing data is: {:.3f}\".format(lasso_testing_set_score))\n",
    "print(\"The median absolute error on our testing data is: {:.3f}\".format(lasso_median_abs_error))"
   ]
  },
  {
   "cell_type": "code",
   "execution_count": 173,
   "id": "ecfbaac6",
   "metadata": {},
   "outputs": [
    {
     "name": "stdout",
     "output_type": "stream",
     "text": [
      "The R^2 score on our testing data is: 0.993\n",
      "The median absolute error on our testing data is: 2.06\n"
     ]
    }
   ],
   "source": [
    "lambdas = 10.**np.array([-4, -3, -2, -1, 0, 1, 2, 3, 4])\n",
    "y = data_encoded['price']\n",
    "cv = KFold(n_splits = 5)\n",
    "lasso = LassoCV(alphas = lambdas, tol = 0.01, fit_intercept = False, normalize = True, cv = 5)\n",
    "\n",
    "# Store r2 and median absolute error\n",
    "MAE =[]\n",
    "R2 = []\n",
    "\n",
    "# Find best score by cross validating over 5 folds\n",
    "for train, test in cv.split(data_encoded):\n",
    "    # Fit linreg\n",
    "    lasso.fit(data_encoded.iloc[train], y.iloc[train])\n",
    "    \n",
    "    # Predict and score\n",
    "    Y_predict = lasso.predict(data_encoded.iloc[test])\n",
    "    R2.append(lasso.score(data_encoded.iloc[test], y.iloc[test]))\n",
    "    MAE.append(median_absolute_error(y.iloc[test], Y_predict))\n",
    "\n",
    "# Output and store scores after CV\n",
    "lasso_testing_set_score = np.mean(R2)\n",
    "lasso_median_abs_error = np.mean(MAE)\n",
    "print ('The R^2 score on our testing data is: ' + str(round(lasso_testing_set_score,3)))\n",
    "print ('The median absolute error on our testing data is: ' + str(round(lasso_median_abs_error,3)))"
   ]
  },
  {
   "cell_type": "code",
   "execution_count": 123,
   "id": "78cfbb1e",
   "metadata": {},
   "outputs": [
    {
     "name": "stdout",
     "output_type": "stream",
     "text": [
      "The train score for ls model is 0.9719127033310468\n",
      "The test score for ls model is 0.9719077158233111\n"
     ]
    }
   ],
   "source": [
    "#Lasso regression model\n",
    "lasso = Lasso(alpha = 10)\n",
    "lasso.fit(X_train_scaled,y_train)\n",
    "train_score_ls =lasso.score(X_train_scaled,y_train)\n",
    "test_score_ls =lasso.score(X_test_scaled,y_test)\n",
    "\n",
    "print(\"The train score for ls model is {}\".format(train_score_ls))\n",
    "print(\"The test score for ls model is {}\".format(test_score_ls))"
   ]
  },
  {
   "cell_type": "code",
   "execution_count": null,
   "id": "d6e2a044",
   "metadata": {},
   "outputs": [],
   "source": []
  },
  {
   "cell_type": "markdown",
   "id": "e096641a",
   "metadata": {},
   "source": [
    "## Árboles y ensamblaje"
   ]
  },
  {
   "cell_type": "markdown",
   "id": "ab11ec13",
   "metadata": {},
   "source": [
    "#### Random Forest Regressor "
   ]
  },
  {
   "cell_type": "markdown",
   "id": "ad8d965b",
   "metadata": {},
   "source": [
    "Los árboles no necesitan que los modelos estén estandarizados a si que primero probaremos con los datos sin estandarizar"
   ]
  },
  {
   "cell_type": "code",
   "execution_count": 181,
   "id": "9f15d9f3",
   "metadata": {},
   "outputs": [
    {
     "name": "stdout",
     "output_type": "stream",
     "text": [
      "Mean Squared Error: 2.412584962779156\n"
     ]
    }
   ],
   "source": [
    "rf_model = RandomForestRegressor(n_estimators=100, random_state=42)\n",
    "\n",
    "# Train the model\n",
    "rf_model.fit(X_train, y_train)\n",
    "\n",
    "# Make predictions on the test set\n",
    "y_pred = rf_model.predict(X_test)\n",
    "\n",
    "# Evaluate the model\n",
    "mse = mean_squared_error(y_test, y_pred)\n",
    "print(f\"Mean Squared Error: {mse}\")"
   ]
  },
  {
   "cell_type": "code",
   "execution_count": null,
   "id": "d6faa959",
   "metadata": {},
   "outputs": [],
   "source": []
  },
  {
   "cell_type": "code",
   "execution_count": null,
   "id": "4b61363b",
   "metadata": {},
   "outputs": [],
   "source": []
  }
 ],
 "metadata": {
  "kernelspec": {
   "display_name": "Python 3 (ipykernel)",
   "language": "python",
   "name": "python3"
  },
  "language_info": {
   "codemirror_mode": {
    "name": "ipython",
    "version": 3
   },
   "file_extension": ".py",
   "mimetype": "text/x-python",
   "name": "python",
   "nbconvert_exporter": "python",
   "pygments_lexer": "ipython3",
   "version": "3.9.13"
  }
 },
 "nbformat": 4,
 "nbformat_minor": 5
}
